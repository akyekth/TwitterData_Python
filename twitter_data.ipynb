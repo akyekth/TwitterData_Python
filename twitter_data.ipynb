{
 "cells": [
  {
   "cell_type": "code",
   "execution_count": 1,
   "metadata": {
    "collapsed": true
   },
   "outputs": [],
   "source": [
    "from collections import defaultdict\n",
    "from mysql.connector.errors import Error\n",
    "from itertools import islice\n",
    "\n",
    "import datetime\n",
    "import sys\n",
    "import json\n",
    "import mysql.connector\n",
    "import os\n",
    "import glob\n",
    "import re\n",
    "import time\n",
    "import codecs\n",
    "import base64;\n",
    "from pandas import DataFrame\n",
    "cdate1=[]\n",
    "cascade_list=[]"
   ]
  },
  {
   "cell_type": "code",
   "execution_count": 2,
   "metadata": {
    "collapsed": true
   },
   "outputs": [],
   "source": [
    "df = DataFrame.from_csv(\"/media/data/sensemaking/dataset/cascades/tweet_data.tsv\", sep=\"\\t\")\n",
    "cascade_list=df.to_records().tolist()    "
   ]
  },
  {
   "cell_type": "code",
   "execution_count": 3,
   "metadata": {},
   "outputs": [
    {
     "name": "stdout",
     "output_type": "stream",
     "text": [
      "('bättreförr', 3844174397, '2016-05-30 15:24:57', 'Vansterpartiet', 'pensionarer', '@vansterpartiet pratade igår om subventioner i bostadsmarknaden. Frågan är: hur blir det med subventioner för löständer? #svpol #bättreförr', 737303794648748032, 1464614697.0, 0.0)\n",
      "('bättreförr', 3844174397, '2016-07-04 17:06:05', 'centralpartiet', 'pensionarer', '@annieloof vill ha nya reformer. Vi vill snarare habgamla reformer från den gamla goda tiden #Almedalen #bättreförr @Centerpartiet', 750012819735740416, 1467644765.0, 3030068.0)\n",
      "('bättreförr', 3844174397, '2016-07-04 17:31:00', 'centralpartiet', 'pensionarer', 'Inget tal om pensionärerna i @annieloof tal i #Almedalen. Stor besvikelse! @Centerpartiet #bättreförr', 750019088630579200, 1467646260.0, 3031563.0)\n",
      "('bättreförr', 3197204051, '2016-07-06 17:13:01', 'Kristdemokraterna', 'Systemmannen', 'Mer vård i vården om man slipper välja. Så enkelt. Så bra. #bättreförr #almedalen @kdriks', 750739342554005504, 1467817981.0, 3203284.0)\n",
      "('bättreförr', 3197204051, '2016-07-07 17:52:45', 'Sveriagedemokraterna', 'Systemmannen', \"Hej @sdriks! Ni verkar också tycka att det var #bättreförr. Har ni hört min nya låt 'Det var bättre förr'?#almedalen https://t.co/GSqUMRwfVH\", 751111728365244417, 1467906765.0, 3292068.0)\n",
      "('notall', 754295990996303873, '2016-10-19 19:39:13', 'Socialdemokraterna', 'ZeeWorldClear', '@hanifbali @konsensuseliten @Ygeman Sossar är vidriga, #notall', 788826858955673600, 1476898753.0, 0.0)\n",
      "('världscancerdagen', 154434621, '2016-02-04 12:17:59', 'Kristdemokraterna', 'kdmariafalth', 'Gabriel Wikström hyllar @goranhagglund m fl ansträngningar att ta fram en nationell cancerplan #världscancerdagen @KDSLL  @kdriks', 695219748821471232, 1454584679.0, 0.0)\n",
      "('världscancerdagen', 154434621, '2016-02-04 15:06:05', 'Kristdemokraterna', 'kdmariafalth', 'Riksdagens socialutskottsordförande @EmmaHenriksson (KD) på scen på #världscancerdagen. Då blir det mycket bra @KDSLL @kdriks', 695262053586571264, 1454594765.0, 10086.0)\n",
      "('feministisklogik', 498989923, '2016-08-20 16:43:19', 'FeministisktInitiativ', 'Grisbrottaren', 'SEX ÄR INGET BROTT!  Sådär! Nu kan vi avskaffa sexköpslagen. https://t.co/F13Nb2ZucN #feministisklogik #tiggeriförbud #fempol @Feministerna', 767039322293989377, 1471704199.0, 0.0)\n",
      "('paulabieler', 22406603, '2016-04-17 09:14:49', 'Sveriagedemokraterna', 'RaFaNaIAM', \"Paula Bieler 'Vi har inte varit naiva' https://t.co/kgiyuZjhrE #SvPol 'Sverigedemokraterna #PaulaBieler\", 721627969320546305, 1460877289.0, 0.0)\n"
     ]
    }
   ],
   "source": [
    "for i in range(0,10):\n",
    "    print(cascade_list[i])\n"
   ]
  },
  {
   "cell_type": "code",
   "execution_count": 5,
   "metadata": {},
   "outputs": [
    {
     "name": "stdout",
     "output_type": "stream",
     "text": [
      "it wass succes::::\n"
     ]
    }
   ],
   "source": [
    "cnx = mysql.connector.connect(user='root', password= 'root', host = 'localhost',database = 'twitterSchema')\n",
    "q= \"insert into solor_index(user_id,created_at,label,user_name,tweet_text,tweet_id) values(?,?,?,?,?,?,?)\"\n",
    "try:\n",
    "    cursor = cnx.cursor(prepared=True)    \n",
    "    cursor.executemany(q,cascade_list)  \n",
    "    cnx.commit()\n",
    "    cursor.close()\n",
    "    cnx.close()\n",
    "except Error as err:\n",
    "    print(\"Something went wrong: {}\".format(err))\n",
    "    raise mysql.connector.Error(err)\n",
    "print(\"it wass succes::::\")"
   ]
  },
  {
   "cell_type": "code",
   "execution_count": null,
   "metadata": {
    "collapsed": true
   },
   "outputs": [],
   "source": [
    "user_id    | bigint(20) | YES  |     | NULL    |       |\n",
    "| hashtag    | text       | YES  |     | NULL    |       |\n",
    "| created_at | text       | YES  |     | NULL    |       |\n",
    "| label      | text       | YES  |     | NULL    |       |\n",
    "| user_name  | text       | YES  |     | NULL    |       |\n",
    "| tweet_text | text       | YES  |     | NULL    |       |\n",
    "| tweet_id\n",
    "timestamp     | float      | YES  |     | NULL    |       |\n",
    "| relative_time"
   ]
  },
  {
   "cell_type": "code",
   "execution_count": 5,
   "metadata": {},
   "outputs": [
    {
     "name": "stdout",
     "output_type": "stream",
     "text": [
      "it wass succes::::\n"
     ]
    }
   ],
   "source": [
    "cnx = mysql.connector.connect(user='root', password= 'root', host = 'localhost',database = 'twitterSchema')\n",
    "q= \"insert into twitter_data(hashtag,user_id,created_at,label,user_name,tweet_text,tweet_id,timestamp,relative_time) values(?,?,?,?,?,?,?,?,?)\"\n",
    "try:\n",
    "    cursor = cnx.cursor(prepared=True)    \n",
    "    cursor.executemany(q,cascade_list)  \n",
    "    cnx.commit()\n",
    "    cursor.close()\n",
    "    cnx.close()\n",
    "except Error as err:\n",
    "    print(\"Something went wrong: {}\".format(err))\n",
    "    raise mysql.connector.Error(err)\n",
    "print(\"it wass succes::::\")"
   ]
  },
  {
   "cell_type": "code",
   "execution_count": 25,
   "metadata": {},
   "outputs": [
    {
     "name": "stdout",
     "output_type": "stream",
     "text": [
      "it wass succes::::\n"
     ]
    }
   ],
   "source": [
    "#distinct hashtag\n",
    "cnx = mysql.connector.connect(user='root', password= 'root', host = 'localhost',database = 'twitterSchema')\n",
    "q=\"select distinct hashtag from twitter_data\"\n",
    "try:\n",
    "    cursor = cnx.cursor(prepared=True)    \n",
    "    cursor.execute(q) \n",
    "    rows=cursor.fetchall()\n",
    "    cnx.commit()\n",
    "    cursor.close()\n",
    "    cnx.close()\n",
    "except Error as err:\n",
    "    print(\"Something went wrong: {}\".format(err))\n",
    "    raise mysql.connector.Error(err)\n",
    "print(\"it wass succes::::\")\n",
    "\n",
    "    \n",
    "            \n"
   ]
  },
  {
   "cell_type": "code",
   "execution_count": 33,
   "metadata": {},
   "outputs": [
    {
     "name": "stdout",
     "output_type": "stream",
     "text": [
      "14212\n",
      "('FiAlmedalen',)\n"
     ]
    }
   ],
   "source": [
    "htlist=[]\n",
    "for (x,) in rows:\n",
    "    x1=x.decode(\"utf-8\")\n",
    "    htlist.append((x1,))\n",
    "print(len(htlist))\n",
    "print(htlist[0])"
   ]
  },
  {
   "cell_type": "code",
   "execution_count": null,
   "metadata": {
    "collapsed": true
   },
   "outputs": [],
   "source": [
    "cumulative_count=[]\n",
    "cnx = mysql.connector.connect(user='root', password= 'root', host = 'localhost',database = 'twitterSchema')\n",
    "p=\"select count(distinct user_id) as cuser,count(distinct tweet_id)as ctweet, m ,@total:=@total+count(distinct tweet_id) as cumtweet from  (select user_id,tweet_id,month(created_at) as m from twitter_data cross join (select @total := 0) as var where hashtag=?)a  group by m\"\n",
    "try:\n",
    "    cursor = cnx.cursor(prepared=True) \n",
    "    for i in htlist:\n",
    "        cursor.execute(p,i) \n",
    "        for row in cursor:\n",
    "            rows1=cursor.fetchall()\n",
    "        "
   ]
  },
  {
   "cell_type": "code",
   "execution_count": 13,
   "metadata": {},
   "outputs": [
    {
     "name": "stdout",
     "output_type": "stream",
     "text": [
      "16300\n",
      "328155\n",
      "(\"b'FiAlmedalen'\", '2016-06-28', '2287066712')\n",
      "(\"b'FiAlmedalen'\", '2016-06-28', '23077161')\n",
      "(\"b'FiAlmedalen'\", '2016-06-28', '3175345451')\n",
      "(\"b'FiAlmedalen'\", '2016-06-28', '420947484')\n",
      "(\"b'FiAlmedalen'\", '2016-06-28', '3351035297')\n",
      "(\"b'FiAlmedalen'\", '2016-06-30', '22898618')\n",
      "(\"b'FiAlmedalen'\", '2016-06-30', '2493206733')\n",
      "(\"b'FiAlmedalen'\", '2016-07-04', '23077161')\n",
      "(\"b'FiAlmedalen'\", '2016-07-04', '851532774')\n",
      "(\"b'FiAlmedalen'\", '2016-07-04', '182935271')\n",
      "(\"b'FiAlmedalen'\", '2016-07-04', '2396241908')\n",
      "(\"b'FiAlmedalen'\", '2016-07-04', '42009389')\n",
      "(\"b'FiAlmedalen'\", '2016-07-04', '2327694438')\n",
      "(\"b'FiAlmedalen'\", '2016-07-04', '275719086')\n",
      "(\"b'FiAlmedalen'\", '2016-07-04', '22898618')\n",
      "(\"b'FiAlmedalen'\", '2016-07-04', '420947484')\n",
      "(\"b'FiAlmedalen'\", '2016-07-04', '410699451')\n",
      "(\"b'FiAlmedalen'\", '2016-07-05', '2287066712')\n",
      "(\"b'FiAlmedalen'\", '2016-07-05', '2612306330')\n",
      "(\"b'FiAlmedalen'\", '2016-07-05', '23077161')\n",
      "(\"b'FiAlmedalen'\", '2016-07-05', '851532774')\n",
      "(\"b'FiAlmedalen'\", '2016-07-05', '2862998554')\n",
      "(\"b'FiAlmedalen'\", '2016-07-05', '404731830')\n",
      "(\"b'FiAlmedalen'\", '2016-07-06', '134584157')\n",
      "(\"b'FiAlmedalen'\", '2016-07-06', '1653601639')\n",
      "(\"b'Almedalen2016'\", '2016-06-14', '19393282')\n",
      "(\"b'Almedalen2016'\", '2016-06-26', '113185497')\n",
      "(\"b'Almedalen2016'\", '2016-06-28', '420947484')\n",
      "(\"b'Almedalen2016'\", '2016-06-28', '2287066712')\n",
      "(\"b'Almedalen2016'\", '2016-06-28', '23077161')\n",
      "(\"b'Almedalen2016'\", '2016-06-28', '23077161')\n",
      "(\"b'Almedalen2016'\", '2016-06-28', '851532774')\n",
      "(\"b'Almedalen2016'\", '2016-06-28', '3175345451')\n",
      "(\"b'Almedalen2016'\", '2016-06-28', '370654673')\n",
      "(\"b'Almedalen2016'\", '2016-06-28', '420947484')\n",
      "(\"b'Almedalen2016'\", '2016-06-28', '3351035297')\n",
      "(\"b'Almedalen2016'\", '2016-06-28', '598659590')\n",
      "(\"b'Almedalen2016'\", '2016-06-30', '22898618')\n",
      "(\"b'Almedalen2016'\", '2016-06-30', '2493206733')\n",
      "(\"b'Almedalen2016'\", '2016-07-02', '1239431244')\n",
      "(\"b'Almedalen2016'\", '2016-07-02', '18799589')\n",
      "(\"b'Almedalen2016'\", '2016-07-02', '481518702')\n",
      "(\"b'Almedalen2016'\", '2016-07-02', '18448607')\n",
      "(\"b'Almedalen2016'\", '2016-07-02', '2504450264')\n",
      "(\"b'Almedalen2016'\", '2016-07-02', '105259402')\n",
      "(\"b'Almedalen2016'\", '2016-07-02', '2442995185')\n",
      "(\"b'Almedalen2016'\", '2016-07-02', '1048219536')\n",
      "(\"b'Almedalen2016'\", '2016-07-02', '1324366746')\n",
      "(\"b'Almedalen2016'\", '2016-07-02', '4841384319')\n",
      "(\"b'Almedalen2016'\", '2016-07-02', '22972747')\n"
     ]
    }
   ],
   "source": [
    "\n",
    "contents = [x.strip() for x in contents]\n",
    "print(len(contents))\n",
    "for content in contents:\n",
    "    x=content.split(\" \")\n",
    "    for i in range(1,len(x)):\n",
    "        ht=x[i].split(\",\")\n",
    "        t=time.strftime('%Y-%m-%d', time.localtime(float(ht[0])))\n",
    "        cascade_list.append((x[0],t,ht[1]))\n",
    "    \n",
    "print(len(cascade_list))\n",
    "for i in range(0,50):\n",
    "    print(cascade_list[i])\n",
    "    \n",
    "\n",
    "\n",
    "    "
   ]
  },
  {
   "cell_type": "code",
   "execution_count": 14,
   "metadata": {},
   "outputs": [
    {
     "name": "stdout",
     "output_type": "stream",
     "text": [
      "it wass succes::::\n"
     ]
    }
   ],
   "source": [
    "cnx = mysql.connector.connect(user='root', password= 'root', host = 'localhost',database = 'twitterSchema')\n",
    "q= \"insert into cascade1(ht,created_at,userid) values(?,?,?)\"\n",
    "try:\n",
    "    cursor = cnx.cursor(prepared=True)    \n",
    "    cursor.executemany(q,cascade_list)  \n",
    "    cnx.commit()\n",
    "    cursor.close()\n",
    "    cnx.close()\n",
    "except Error as err:\n",
    "    print(\"Something went wrong: {}\".format(err))\n",
    "    raise mysql.connector.Error(err)\n",
    "print(\"it wass succes::::\")"
   ]
  }
 ],
 "metadata": {
  "kernelspec": {
   "display_name": "Python 3",
   "language": "python",
   "name": "python3"
  },
  "language_info": {
   "codemirror_mode": {
    "name": "ipython",
    "version": 3
   },
   "file_extension": ".py",
   "mimetype": "text/x-python",
   "name": "python",
   "nbconvert_exporter": "python",
   "pygments_lexer": "ipython3",
   "version": "3.6.2"
  }
 },
 "nbformat": 4,
 "nbformat_minor": 2
}
