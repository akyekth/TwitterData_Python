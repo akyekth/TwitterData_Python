{
 "cells": [
  {
   "cell_type": "code",
   "execution_count": 1,
   "metadata": {
    "collapsed": true
   },
   "outputs": [],
   "source": [
    "from collections import defaultdict\n",
    "from mysql.connector.errors import Error\n",
    "from itertools import islice\n",
    "\n",
    "import datetime\n",
    "import sys\n",
    "import json\n",
    "import mysql.connector\n",
    "import os\n",
    "import glob\n",
    "import re\n"
   ]
  },
  {
   "cell_type": "code",
   "execution_count": null,
   "metadata": {
    "collapsed": true
   },
   "outputs": [],
   "source": [
    "d=defaultdict(list)\n",
    "fileslist=[]\n",
    "errorlist=[\n",
    "          '/media/data/sensemaking/dataset/Vansterpartiet/*.dat',\n",
    "          '/media/data/sensemaking/dataset/Sveriagedemokraterna/*.dat',\n",
    "          '/media/data/sensemaking/dataset/Socialdemokraterna/*.dat',\n",
    "          '/media/data/sensemaking/dataset/Piratpartiet/*.dat',\n",
    "          ]\n",
    "\n",
    "dirlist= ['/media/data/sensemaking/dataset/centralpartiet/clean/*.dat',\n",
    "          '/media/data/sensemaking/dataset/FeministisktInitiativ/clean/*.dat',\n",
    "          '/media/data/sensemaking/dataset/Kristdemokraterna/clean/*.dat',\n",
    "          '/media/data/sensemaking/dataset/Liberalerna/clean/*.dat',\n",
    "          '/media/data/sensemaking/dataset/Vansterpartiet/*.dat',\n",
    "          '/media/data/sensemaking/dataset/Sveriagedemokraterna/*.dat',\n",
    "          '/media/data/sensemaking/dataset/Socialdemokraterna/*.dat',\n",
    "          '/media/data/sensemaking/dataset/Piratpartiet/*.dat'\n",
    "         ]\n",
    "\n",
    "for dirl in dirlist:\n",
    "    fileslist.extend(glob.glob(dirl,recursive=True))\n",
    "    print(re.search('dataset/(.+?)/',dirl).group(1))\n",
    "    print('directory files are adding to filelist: %s:'%dirl)\n",
    "print('no.of file in directory: %d'%len(fileslist))\n",
    "\n",
    "    "
   ]
  },
  {
   "cell_type": "code",
   "execution_count": null,
   "metadata": {
    "collapsed": true
   },
   "outputs": [],
   "source": [
    "tweet_list=[]\n",
    "tweet_list1=[]\n",
    "print(\"3rd block strated\")\n",
    "# each file listed in fileslist \n",
    "for file in fileslist:\n",
    "    #print(file)\n",
    "    with open(file) as f:\n",
    "        content = f.readlines()\n",
    "         # you may also want to remove whitespace characters like `\\n` at the end of each line\n",
    "    #content = [x.strip() for x in content]\n",
    "    #print(len(content))\n",
    "       \n",
    "    for x in content:\n",
    "           \n",
    "        try:\n",
    "            if x.strip().endswith('}'):\n",
    "                jsondata = json.loads(x,encoding='latin1')\n",
    "            else:\n",
    "                \n",
    "                continue\n",
    "                #   jsondata = json.loads(x,encoding='latin1')\n",
    "                    \n",
    "        except ValueError as ex:\n",
    "            #print(f)\n",
    "           \n",
    "            continue\n",
    "            #raise ValueError(ex)\n",
    "        #tweet-table data    \n",
    "        tweet_id= jsondata['id']\n",
    "        tweet_list.append(tweet_id)\n",
    "tweet_list1= list(set(tweet_list))\n",
    "print(len(tweet_list))\n",
    "print(len(tweet_list1))\n",
    "\n",
    "for i in range(len(tweet_list1)):\n",
    "    if i==73 or i== 199842:\n",
    "        print(tweet_list1[i])\n",
    "    \n",
    "    \n",
    "\n",
    "s1= helpinsert(tweet_list1)\n",
    "#s1= tinsert(tweet_list1)\n",
    "print('help table insertion operation completed: %s'%s1)\n",
    "    \n",
    "  "
   ]
  },
  {
   "cell_type": "code",
   "execution_count": null,
   "metadata": {
    "collapsed": true
   },
   "outputs": [],
   "source": [
    "def tinsert(tweet_list1):\n",
    "    \n",
    "    print(\"tinsert method started\")\n",
    "    print(len(tweet_list1))\n",
    "       \n",
    "        \n",
    "    cnx = mysql.connector.connect(user='root', password= 'root', host = 'localhost',database = 'twitterSchema')\n",
    "    \n",
    "    q= \"insert into t(tw,li)  select ? , GROUP_CONCAT(CONCAT(hashtag.text)) as ht from tweet inner join tweets_hashtag using(tweet_id) inner join hashtag on tweets_hashtag.hash_id= hashtag.hashtag_id where tweet_id=?\" \n",
    "    print(q)\n",
    "    try:\n",
    "        cursor = cnx.cursor(prepared=True)                        \n",
    "        for i in range(len(tweet_list1)):\n",
    "            print(i)\n",
    "            try:\n",
    "                    cursor.execute(q,(tweet_list1[i],tweet_list1[i]))\n",
    "            except Error as err:\n",
    "                print(\"Something went wrong: {}\")\n",
    "                print(i)\n",
    "            \n",
    "        cnx.commit()\n",
    "        cursor.close()\n",
    "        cnx.close()\n",
    "    except Error as err:\n",
    "        print(\"Something went wrong: {}\".format(err))\n",
    "      \n",
    "        raise mysql.connector.Error(err)\n",
    "        \n",
    "    return 'success';"
   ]
  },
  {
   "cell_type": "code",
   "execution_count": null,
   "metadata": {
    "collapsed": true
   },
   "outputs": [],
   "source": [
    "def helpinsert(tweet_list1):\n",
    "    \n",
    "    print(\"helpinsert method started\")\n",
    "    print(len(tweet_list1))\n",
    "       \n",
    "        \n",
    "    cnx = mysql.connector.connect(user='root', password= 'root', host = 'localhost',database = 'twitterSchema')\n",
    "    \n",
    "    q= \"insert into help(tweet_id,text,uid,created,uname)  select tweet.tweet_id, tweet.text,users.id_str,tweet.created_at,users.name from users inner join tweet using(id_str) where tweet_id=?\" \n",
    "    print(q)\n",
    "    try:\n",
    "        cursor = cnx.cursor(prepared=True)                        \n",
    "        for i in range(len(tweet_list1)):\n",
    "            print(i)\n",
    "            try:\n",
    "                    cursor.execute(q,(tweet_list1[i],))\n",
    "            except Error as err:\n",
    "                print(\"Something went wrong: {}\")\n",
    "                print(i)\n",
    "            \n",
    "        cnx.commit()\n",
    "        cursor.close()\n",
    "        cnx.close()\n",
    "    except Error as err:\n",
    "        print(\"Something went wrong: {}\".format(err))\n",
    "      \n",
    "        raise mysql.connector.Error(err)\n",
    "        \n",
    "    return 'success';"
   ]
  },
  {
   "cell_type": "code",
   "execution_count": 2,
   "metadata": {},
   "outputs": [
    {
     "name": "stdout",
     "output_type": "stream",
     "text": [
      "594613\n",
      "927894\n",
      "('svpol', 723152822133493760, 723152822133493760)\n",
      "('nato', 741373653951090688, 741373653951090688)\n",
      "('föpol', 741373653951090688, 741373653951090688)\n",
      "('säkpol', 741373653951090688, 741373653951090688)\n",
      "('svpol', 687165368431947776, 687165368431947776)\n",
      "('flygskatt', 803997605659344896, 803997605659344896)\n",
      "('ssu16', 711219964733202433, 711219964733202433)\n",
      "('svpol', 803699622363414533, 803699622363414533)\n",
      "('svpol', 753530885794893825, 753530885794893825)\n",
      "('svpol', 734468755116462080, 734468755116462080)\n",
      "('svtagenda', 734468755116462080, 734468755116462080)\n",
      "('svpol', 764487277980618752, 764487277980618752)\n",
      "('svpol', 697840533385912320, 697840533385912320)\n",
      "('noterad', 739130323586273280, 739130323586273280)\n",
      "('dn', 739130323586273280, 739130323586273280)\n",
      "('svpol', 810739295392858112, 810739295392858112)\n",
      "('svpol', 745529639846612996, 745529639846612996)\n",
      "('flygskatt', 803988293998313472, 803988293998313472)\n",
      "('svpol', 803988293998313472, 803988293998313472)\n",
      "('eupol', 789219568589864960, 789219568589864960)\n",
      "it wass succes::::\n"
     ]
    }
   ],
   "source": [
    "\"\"\" users hashatg realted files uhashtag table contains userid,hahstag,created_at,parties\"\"\"\n",
    "htlist=[]\n",
    "cnx = mysql.connector.connect(user='root', password= 'root', host = 'localhost',database = 'twitterSchema')\n",
    "q= \"select * from t\" \n",
    "p=\"insert into userhashtag(userid,ht,created_at,pname,tweet_id) select id_str,?,date(created_at),party_name,? from tweet inner join mentions_party using(tweet_id) where tweet_id=?\"\n",
    "\n",
    "try:\n",
    "    cursor = cnx.cursor(prepared=True)    \n",
    "    cursor.execute(q)\n",
    "    rows = cursor.fetchall() #return list of tuples (tweetid,hashatg(svpol,ligpol,.))\n",
    "   \n",
    "    print(len(rows))\n",
    "   \n",
    "    for x,y in rows:\n",
    "        y=y.decode(\"utf-8\")\n",
    "        ht=y.split(\",\")      \n",
    "        for i in ht:\n",
    "            htlist.append((i,x,x))\n",
    "    print(len(htlist))\n",
    "    for i in range(20):\n",
    "        print(htlist[i])\n",
    "            \n",
    "    for i in range(len(htlist)):\n",
    "         cursor.execute(p,htlist[i])\n",
    "       \n",
    "       \n",
    "    cnx.commit()\n",
    "    cursor.close()\n",
    "    cnx.close()\n",
    "except Error as err:\n",
    "    print(\"Something went wrong: {}\".format(err))\n",
    "    raise mysql.connector.Error(err)\n",
    "print(\"it wass succes::::\")"
   ]
  },
  {
   "cell_type": "code",
   "execution_count": 8,
   "metadata": {},
   "outputs": [
    {
     "name": "stdout",
     "output_type": "stream",
     "text": [
      "it wass succes::::\n"
     ]
    }
   ],
   "source": [
    "\"\"\" users hashatg realted files userhashtag table contains userid,hahstag,created_at,parties\"\"\"\n",
    "htlist=[]\n",
    "dummy=[]\n",
    "cnx = mysql.connector.connect(user='root', password= 'root', host = 'localhost',database = 'twitterSchema')\n",
    "q= \"select  hashtag_id,text from hashtag\" \n",
    "p=\"select m,count(distinct userid),count(distinct tweet_id)as ctweet,@total:=@total+count(distinct tweet_id) as cumtweet from (select userid,tweet_id,month(created_at) as m from userhashtag cross join (select @total := 0) as var where ht=?)a  group by m\"\n",
    "\n",
    "\n",
    "try:\n",
    "    cursor = cnx.cursor(prepared=True)    \n",
    "    cursor.execute(q)\n",
    "    rows = cursor.fetchall() #return list of tuples (tweetid,hashatg(svpol,ligpol,.))\n",
    "    \n",
    "    for x,y in rows:\n",
    "        y1=y.decode(\"utf-8\")\n",
    "        htlist.append((y1)) \n",
    "except Error as err:\n",
    "    print(\"Something went wrong: {}\".format(err))\n",
    "    raise mysql.connector.Error(err)\n",
    "print(\"it wass succes::::\")"
   ]
  },
  {
   "cell_type": "code",
   "execution_count": 9,
   "metadata": {},
   "outputs": [
    {
     "name": "stdout",
     "output_type": "stream",
     "text": [
      "10090\n"
     ]
    }
   ],
   "source": [
    "print(len(htlist))"
   ]
  },
  {
   "cell_type": "code",
   "execution_count": 10,
   "metadata": {
    "collapsed": true
   },
   "outputs": [],
   "source": [
    "def chunks(l, n):\n",
    "    \"\"\"Yield successive n-sized chunks from l.\"\"\"\n",
    "    for i in range(0, len(l), n):\n",
    "        yield l[i:i + n]"
   ]
  },
  {
   "cell_type": "code",
   "execution_count": 16,
   "metadata": {},
   "outputs": [
    {
     "name": "stdout",
     "output_type": "stream",
     "text": [
      "[range(0, 1000), range(1000, 2000), range(2000, 3000), range(3000, 4000), range(4000, 5000), range(5000, 6000), range(6000, 7000), range(7000, 8000), range(8000, 9000), range(9000, 10000), range(10000, 10090)]\n"
     ]
    }
   ],
   "source": [
    "htlist_chunks=list(chunks(range(0,10090), 1000))\n",
    "print(htlist_chunks)"
   ]
  },
  {
   "cell_type": "code",
   "execution_count": 17,
   "metadata": {},
   "outputs": [
    {
     "ename": "AttributeError",
     "evalue": "'NoneType' object has no attribute 'cmd_stmt_reset'",
     "output_type": "error",
     "traceback": [
      "\u001b[0;31m---------------------------------------------------------------------------\u001b[0m",
      "\u001b[0;31mAttributeError\u001b[0m                            Traceback (most recent call last)",
      "\u001b[0;32m<ipython-input-17-4fd92768f9b5>\u001b[0m in \u001b[0;36m<module>\u001b[0;34m()\u001b[0m\n\u001b[1;32m      1\u001b[0m \u001b[0;32mfor\u001b[0m \u001b[0mi\u001b[0m \u001b[0;32min\u001b[0m \u001b[0mhtlist_chunks\u001b[0m\u001b[0;34m[\u001b[0m\u001b[0;36m1\u001b[0m\u001b[0;34m]\u001b[0m\u001b[0;34m:\u001b[0m\u001b[0;34m\u001b[0m\u001b[0m\n\u001b[0;32m----> 2\u001b[0;31m         \u001b[0mcursor\u001b[0m\u001b[0;34m.\u001b[0m\u001b[0mexecute\u001b[0m\u001b[0;34m(\u001b[0m\u001b[0mp\u001b[0m\u001b[0;34m,\u001b[0m\u001b[0;34m(\u001b[0m\u001b[0mhtlist\u001b[0m\u001b[0;34m[\u001b[0m\u001b[0mi\u001b[0m\u001b[0;34m]\u001b[0m\u001b[0;34m,\u001b[0m\u001b[0;34m)\u001b[0m\u001b[0;34m)\u001b[0m\u001b[0;34m\u001b[0m\u001b[0m\n\u001b[0m\u001b[1;32m      3\u001b[0m         \u001b[0mrows1\u001b[0m\u001b[0;34m=\u001b[0m\u001b[0mcursor\u001b[0m\u001b[0;34m.\u001b[0m\u001b[0mfetchall\u001b[0m\u001b[0;34m(\u001b[0m\u001b[0;34m)\u001b[0m\u001b[0;34m\u001b[0m\u001b[0m\n\u001b[1;32m      4\u001b[0m         \u001b[0;32mfor\u001b[0m \u001b[0mj\u001b[0m \u001b[0;32min\u001b[0m \u001b[0mrows1\u001b[0m\u001b[0;34m:\u001b[0m\u001b[0;34m\u001b[0m\u001b[0m\n\u001b[1;32m      5\u001b[0m             \u001b[0mdummy\u001b[0m\u001b[0;34m.\u001b[0m\u001b[0mappend\u001b[0m\u001b[0;34m(\u001b[0m\u001b[0;34m[\u001b[0m\u001b[0mhtlist\u001b[0m\u001b[0;34m[\u001b[0m\u001b[0mi\u001b[0m\u001b[0;34m]\u001b[0m\u001b[0;34m,\u001b[0m\u001b[0mj\u001b[0m\u001b[0;34m[\u001b[0m\u001b[0;36m0\u001b[0m\u001b[0;34m]\u001b[0m\u001b[0;34m,\u001b[0m\u001b[0mj\u001b[0m\u001b[0;34m[\u001b[0m\u001b[0;36m1\u001b[0m\u001b[0;34m]\u001b[0m\u001b[0;34m,\u001b[0m\u001b[0mj\u001b[0m\u001b[0;34m[\u001b[0m\u001b[0;36m2\u001b[0m\u001b[0;34m]\u001b[0m\u001b[0;34m,\u001b[0m\u001b[0mj\u001b[0m\u001b[0;34m[\u001b[0m\u001b[0;36m3\u001b[0m\u001b[0;34m]\u001b[0m\u001b[0;34m]\u001b[0m\u001b[0;34m)\u001b[0m  \u001b[0;31m#[()]\u001b[0m\u001b[0;34m\u001b[0m\u001b[0m\n",
      "\u001b[0;32m~/anaconda3/lib/python3.6/site-packages/mysql/connector/cursor.py\u001b[0m in \u001b[0;36mexecute\u001b[0;34m(self, operation, params, multi)\u001b[0m\n\u001b[1;32m   1071\u001b[0m                 \u001b[0;32mraise\u001b[0m\u001b[0;34m\u001b[0m\u001b[0m\n\u001b[1;32m   1072\u001b[0m \u001b[0;34m\u001b[0m\u001b[0m\n\u001b[0;32m-> 1073\u001b[0;31m         \u001b[0mself\u001b[0m\u001b[0;34m.\u001b[0m\u001b[0m_connection\u001b[0m\u001b[0;34m.\u001b[0m\u001b[0mcmd_stmt_reset\u001b[0m\u001b[0;34m(\u001b[0m\u001b[0mself\u001b[0m\u001b[0;34m.\u001b[0m\u001b[0m_prepared\u001b[0m\u001b[0;34m[\u001b[0m\u001b[0;34m'statement_id'\u001b[0m\u001b[0;34m]\u001b[0m\u001b[0;34m)\u001b[0m\u001b[0;34m\u001b[0m\u001b[0m\n\u001b[0m\u001b[1;32m   1074\u001b[0m \u001b[0;34m\u001b[0m\u001b[0m\n\u001b[1;32m   1075\u001b[0m         \u001b[0;32mif\u001b[0m \u001b[0mself\u001b[0m\u001b[0;34m.\u001b[0m\u001b[0m_prepared\u001b[0m\u001b[0;34m[\u001b[0m\u001b[0;34m'parameters'\u001b[0m\u001b[0;34m]\u001b[0m \u001b[0;32mand\u001b[0m \u001b[0;32mnot\u001b[0m \u001b[0mparams\u001b[0m\u001b[0;34m:\u001b[0m\u001b[0;34m\u001b[0m\u001b[0m\n",
      "\u001b[0;31mAttributeError\u001b[0m: 'NoneType' object has no attribute 'cmd_stmt_reset'"
     ]
    }
   ],
   "source": [
    "for i in htlist_chunks[1]:\n",
    "        cursor.execute(p,(htlist[i],))\n",
    "        rows1=cursor.fetchall()\n",
    "        for j in rows1:\n",
    "            dummy.append([htlist[i],j[0],j[1],j[2],j[3]])  #[()]   \n",
    "for j in range(0,20):\n",
    "        print(dummy[j])\n",
    "        \n",
    "print(len(dummy))\n",
    "\n",
    "cursor.close()\n",
    "cnx.commit()\n",
    "cnx.close()\n",
    "print(\"it wass succes::::\")                      "
   ]
  }
 ],
 "metadata": {
  "kernelspec": {
   "display_name": "Python 3",
   "language": "python",
   "name": "python3"
  },
  "language_info": {
   "codemirror_mode": {
    "name": "ipython",
    "version": 3
   },
   "file_extension": ".py",
   "mimetype": "text/x-python",
   "name": "python",
   "nbconvert_exporter": "python",
   "pygments_lexer": "ipython3",
   "version": "3.6.2"
  }
 },
 "nbformat": 4,
 "nbformat_minor": 2
}
