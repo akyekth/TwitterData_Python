{
 "cells": [
  {
   "cell_type": "code",
   "execution_count": 10,
   "metadata": {
    "collapsed": true
   },
   "outputs": [],
   "source": [
    "from collections import defaultdict\n",
    "from mysql.connector.errors import Error\n",
    "from itertools import islice\n",
    "\n",
    "import datetime\n",
    "import sys\n",
    "import json\n",
    "import mysql.connector\n",
    "import os\n",
    "import glob\n",
    "import re\n",
    "import time\n",
    "import codecs\n",
    "import base64;\n",
    "from pandas import DataFrame\n"
   ]
  },
  {
   "cell_type": "code",
   "execution_count": 11,
   "metadata": {
    "collapsed": true
   },
   "outputs": [],
   "source": [
    "df = DataFrame.from_csv(\"/media/data/sensemaking/dataset/cascades/solr_indx.tsv\", sep=\"\\t\")\n",
    "cascade_list=df.to_records().tolist() "
   ]
  },
  {
   "cell_type": "code",
   "execution_count": 12,
   "metadata": {},
   "outputs": [
    {
     "name": "stdout",
     "output_type": "stream",
     "text": [
      "(755785891138985984, '#svpol  Ett tydligt ställningstagande från en #centerpartist.  @Centerpartiet https://t.co/ItKdMV43rL', 'olofdissident', 1327807772, 'centerpartist,svpol', '2016-07-20 15:26:12', 'centralpartiet')\n"
     ]
    }
   ],
   "source": [
    "for i in range(0,1):\n",
    "    print(cascade_list[i])\n"
   ]
  },
  {
   "cell_type": "code",
   "execution_count": 13,
   "metadata": {},
   "outputs": [
    {
     "name": "stdout",
     "output_type": "stream",
     "text": [
      "it wass succes::::\n"
     ]
    }
   ],
   "source": [
    "cnx = mysql.connector.connect(user='root', password= 'root', host = 'localhost',database = 'twitterSchema')\n",
    "q= \"insert into solor_index(tweet_id,tweet_text,username,user_id,hashtags,created_at,party) values(?,?,?,?,?,?,?)\"\n",
    "try:\n",
    "    cursor = cnx.cursor(prepared=True)    \n",
    "    cursor.executemany(q,cascade_list)  \n",
    "    cnx.commit()\n",
    "    cursor.close()\n",
    "    cnx.close()\n",
    "except Error as err:\n",
    "    print(\"Something went wrong: {}\".format(err))\n",
    "    raise mysql.connector.Error(err)\n",
    "print(\"it wass succes::::\")"
   ]
  },
  {
   "cell_type": "code",
   "execution_count": 2,
   "metadata": {},
   "outputs": [
    {
     "name": "stdout",
     "output_type": "stream",
     "text": [
      "it wass succes::::\n"
     ]
    }
   ],
   "source": [
    "#distinct hashtag\n",
    "cnx = mysql.connector.connect(user='root', password= 'root', host = 'localhost',database = 'twitterSchema')\n",
    "q=\"select distinct tweet_id from twitter_data\"\n",
    "try:\n",
    "    cursor = cnx.cursor(prepared=True)    \n",
    "    cursor.execute(q) \n",
    "    rows=cursor.fetchall()\n",
    "    cnx.commit()\n",
    "    cursor.close()\n",
    "    cnx.close()\n",
    "except Error as err:\n",
    "    print(\"Something went wrong: {}\".format(err))\n",
    "    raise mysql.connector.Error(err)\n",
    "print(\"it wass succes::::\")\n"
   ]
  },
  {
   "cell_type": "code",
   "execution_count": 3,
   "metadata": {},
   "outputs": [
    {
     "name": "stdout",
     "output_type": "stream",
     "text": [
      "213759\n",
      "(802982812634726400,)\n",
      "213759\n",
      "(802982812634726400, 802982812634726400)\n",
      "213759\n",
      "802982812634726400\n"
     ]
    }
   ],
   "source": [
    "twli=[]\n",
    "tw_single=[]\n",
    "print(len(rows))\n",
    "print(rows[0])\n",
    "for (i,) in rows:\n",
    "    twli.append((i,i))\n",
    "    tw_single.append(i)\n",
    "print(len(twli))\n",
    "print(twli[0])\n",
    "print(len(tw_single))\n",
    "print(tw_single[0])"
   ]
  },
  {
   "cell_type": "code",
   "execution_count": null,
   "metadata": {
    "collapsed": true
   },
   "outputs": [],
   "source": [
    "+------------+------------+------+-----+---------+-------+\n",
    "| Field      | Type       | Null | Key | Default | Extra |\n",
    "+------------+------------+------+-----+---------+-------+\n",
    "| tweet_id   | bigint(20) | YES  |     | NULL    |       |\n",
    "| userid     | bigint(20) | YES  |     | NULL    |       |   solorindex1\n",
    "| ht         | text       | YES  |     | NULL    |       |\n",
    "| created_at | datetime   | YES  |     | NULL    |       |\n",
    "| user_name  | text       | YES  |     | NULL    |       |\n",
    "| tweet_text | text       | YES  |     | NULL    |       |\n",
    "+------------+------------+------+-----+---------+-------+'\n",
    "\n",
    "211616'"
   ]
  },
  {
   "cell_type": "code",
   "execution_count": 4,
   "metadata": {
    "collapsed": true
   },
   "outputs": [],
   "source": [
    "def chunks(l, n):\n",
    "    \"\"\"Yield successive n-sized chunks from l.\"\"\"\n",
    "    for i in range(0, len(l), n):\n",
    "        yield l[i:i + n]"
   ]
  },
  {
   "cell_type": "code",
   "execution_count": 7,
   "metadata": {},
   "outputs": [
    {
     "name": "stdout",
     "output_type": "stream",
     "text": [
      "54\n",
      "range(144000, 148000)\n"
     ]
    }
   ],
   "source": [
    "twli_chunks=list(chunks(range(0,213759), 4000))\n",
    "print(len(twli_chunks))\n",
    "print(twli_chunks)"
   ]
  },
  {
   "cell_type": "code",
   "execution_count": null,
   "metadata": {
    "collapsed": true
   },
   "outputs": [],
   "source": [
    "cnx = mysql.connector.connect(user='root', password= 'root', host = 'localhost',database = 'twitterSchema')\n",
    "query=\"select GROUP_CONCAT(CONCAT(hashtag)) as ht from twitter_data where tweet_id=?)a join twitter_data where tweet_id=?\"\n",
    "try:\n",
    "    cursor = cnx.cursor(prepared=True)\n",
    "    \n",
    "        for i in twli_chunks[j]:\n",
    "            cursor.execute(q,twli[i]) \n",
    "            a=cursor.fetchall()\n",
    "            a1=a[0]\n",
    "            if len(a1)>0:\n",
    "                cursor.execute(r,(tw_single[i],a1[0],a1[1].decode('utf-8'),a1[2].decode('utf-8'),a1[3].decode('utf-8'),a1[4].decode('utf-8'))) \n",
    "            else:\n",
    "                continue\n",
    "        cnx.commit()\n",
    "        print(\"it was success:%d\"%j)\n",
    "        \n",
    "        \n",
    "    \n",
    "    cursor.close()\n",
    "    cnx.close()\n",
    "except Error as err:\n",
    "    print(\"Something went wrong: {}\".format(err))\n",
    "    print(twli[i])\n",
    "    print(a)\n",
    "    raise mysql.connector.Error(err)\n",
    "print(\"it wass succes::::\")"
   ]
  },
  {
   "cell_type": "code",
   "execution_count": 6,
   "metadata": {},
   "outputs": [
    {
     "name": "stdout",
     "output_type": "stream",
     "text": [
      "it was success:34\n",
      "it was success:35\n"
     ]
    },
    {
     "ename": "KeyboardInterrupt",
     "evalue": "",
     "output_type": "error",
     "traceback": [
      "\u001b[0;31m---------------------------------------------------------------------------\u001b[0m",
      "\u001b[0;31mKeyboardInterrupt\u001b[0m                         Traceback (most recent call last)",
      "\u001b[0;32m<ipython-input-6-e73d91571736>\u001b[0m in \u001b[0;36m<module>\u001b[0;34m()\u001b[0m\n\u001b[1;32m      8\u001b[0m     \u001b[0;32mfor\u001b[0m \u001b[0mj\u001b[0m \u001b[0;32min\u001b[0m \u001b[0mx\u001b[0m\u001b[0;34m:\u001b[0m\u001b[0;34m\u001b[0m\u001b[0m\n\u001b[1;32m      9\u001b[0m         \u001b[0;32mfor\u001b[0m \u001b[0mi\u001b[0m \u001b[0;32min\u001b[0m \u001b[0mtwli_chunks\u001b[0m\u001b[0;34m[\u001b[0m\u001b[0mj\u001b[0m\u001b[0;34m]\u001b[0m\u001b[0;34m:\u001b[0m\u001b[0;34m\u001b[0m\u001b[0m\n\u001b[0;32m---> 10\u001b[0;31m             \u001b[0mcursor\u001b[0m\u001b[0;34m.\u001b[0m\u001b[0mexecute\u001b[0m\u001b[0;34m(\u001b[0m\u001b[0mq\u001b[0m\u001b[0;34m,\u001b[0m\u001b[0mtwli\u001b[0m\u001b[0;34m[\u001b[0m\u001b[0mi\u001b[0m\u001b[0;34m]\u001b[0m\u001b[0;34m)\u001b[0m\u001b[0;34m\u001b[0m\u001b[0m\n\u001b[0m\u001b[1;32m     11\u001b[0m             \u001b[0ma\u001b[0m\u001b[0;34m=\u001b[0m\u001b[0mcursor\u001b[0m\u001b[0;34m.\u001b[0m\u001b[0mfetchall\u001b[0m\u001b[0;34m(\u001b[0m\u001b[0;34m)\u001b[0m\u001b[0;34m\u001b[0m\u001b[0m\n\u001b[1;32m     12\u001b[0m             \u001b[0ma1\u001b[0m\u001b[0;34m=\u001b[0m\u001b[0ma\u001b[0m\u001b[0;34m[\u001b[0m\u001b[0;36m0\u001b[0m\u001b[0;34m]\u001b[0m\u001b[0;34m\u001b[0m\u001b[0m\n",
      "\u001b[0;32m~/anaconda3/lib/python3.6/site-packages/mysql/connector/cursor.py\u001b[0m in \u001b[0;36mexecute\u001b[0;34m(self, operation, params, multi)\u001b[0m\n\u001b[1;32m   1084\u001b[0m             \u001b[0mself\u001b[0m\u001b[0;34m.\u001b[0m\u001b[0m_prepared\u001b[0m\u001b[0;34m[\u001b[0m\u001b[0;34m'statement_id'\u001b[0m\u001b[0;34m]\u001b[0m\u001b[0;34m,\u001b[0m\u001b[0;34m\u001b[0m\u001b[0m\n\u001b[1;32m   1085\u001b[0m             \u001b[0mdata\u001b[0m\u001b[0;34m=\u001b[0m\u001b[0mparams\u001b[0m\u001b[0;34m,\u001b[0m\u001b[0;34m\u001b[0m\u001b[0m\n\u001b[0;32m-> 1086\u001b[0;31m             parameters=self._prepared['parameters'])\n\u001b[0m\u001b[1;32m   1087\u001b[0m         \u001b[0mself\u001b[0m\u001b[0;34m.\u001b[0m\u001b[0m_handle_result\u001b[0m\u001b[0;34m(\u001b[0m\u001b[0mres\u001b[0m\u001b[0;34m)\u001b[0m\u001b[0;34m\u001b[0m\u001b[0m\n\u001b[1;32m   1088\u001b[0m \u001b[0;34m\u001b[0m\u001b[0m\n",
      "\u001b[0;32m~/anaconda3/lib/python3.6/site-packages/mysql/connector/connection.py\u001b[0m in \u001b[0;36mcmd_stmt_execute\u001b[0;34m(self, statement_id, data, parameters, flags)\u001b[0m\n\u001b[1;32m   1603\u001b[0m             \u001b[0mstatement_id\u001b[0m\u001b[0;34m,\u001b[0m \u001b[0mdata\u001b[0m\u001b[0;34m,\u001b[0m \u001b[0mtuple\u001b[0m\u001b[0;34m(\u001b[0m\u001b[0mparameters\u001b[0m\u001b[0;34m)\u001b[0m\u001b[0;34m,\u001b[0m \u001b[0mflags\u001b[0m\u001b[0;34m,\u001b[0m\u001b[0;34m\u001b[0m\u001b[0m\n\u001b[1;32m   1604\u001b[0m             long_data_used, self.charset)\n\u001b[0;32m-> 1605\u001b[0;31m         \u001b[0mpacket\u001b[0m \u001b[0;34m=\u001b[0m \u001b[0mself\u001b[0m\u001b[0;34m.\u001b[0m\u001b[0m_send_cmd\u001b[0m\u001b[0;34m(\u001b[0m\u001b[0mServerCmd\u001b[0m\u001b[0;34m.\u001b[0m\u001b[0mSTMT_EXECUTE\u001b[0m\u001b[0;34m,\u001b[0m \u001b[0mpacket\u001b[0m\u001b[0;34m=\u001b[0m\u001b[0mexecute_packet\u001b[0m\u001b[0;34m)\u001b[0m\u001b[0;34m\u001b[0m\u001b[0m\n\u001b[0m\u001b[1;32m   1606\u001b[0m         \u001b[0mresult\u001b[0m \u001b[0;34m=\u001b[0m \u001b[0mself\u001b[0m\u001b[0;34m.\u001b[0m\u001b[0m_handle_binary_result\u001b[0m\u001b[0;34m(\u001b[0m\u001b[0mpacket\u001b[0m\u001b[0;34m)\u001b[0m\u001b[0;34m\u001b[0m\u001b[0m\n\u001b[1;32m   1607\u001b[0m         \u001b[0;32mreturn\u001b[0m \u001b[0mresult\u001b[0m\u001b[0;34m\u001b[0m\u001b[0m\n",
      "\u001b[0;32m~/anaconda3/lib/python3.6/site-packages/mysql/connector/connection.py\u001b[0m in \u001b[0;36m_send_cmd\u001b[0;34m(self, command, argument, packet_number, packet, expect_response)\u001b[0m\n\u001b[1;32m    508\u001b[0m         \u001b[0;32mif\u001b[0m \u001b[0;32mnot\u001b[0m \u001b[0mexpect_response\u001b[0m\u001b[0;34m:\u001b[0m\u001b[0;34m\u001b[0m\u001b[0m\n\u001b[1;32m    509\u001b[0m             \u001b[0;32mreturn\u001b[0m \u001b[0;32mNone\u001b[0m\u001b[0;34m\u001b[0m\u001b[0m\n\u001b[0;32m--> 510\u001b[0;31m         \u001b[0;32mreturn\u001b[0m \u001b[0mself\u001b[0m\u001b[0;34m.\u001b[0m\u001b[0m_socket\u001b[0m\u001b[0;34m.\u001b[0m\u001b[0mrecv\u001b[0m\u001b[0;34m(\u001b[0m\u001b[0;34m)\u001b[0m\u001b[0;34m\u001b[0m\u001b[0m\n\u001b[0m\u001b[1;32m    511\u001b[0m \u001b[0;34m\u001b[0m\u001b[0m\n\u001b[1;32m    512\u001b[0m     \u001b[0;32mdef\u001b[0m \u001b[0m_send_data\u001b[0m\u001b[0;34m(\u001b[0m\u001b[0mself\u001b[0m\u001b[0;34m,\u001b[0m \u001b[0mdata_file\u001b[0m\u001b[0;34m,\u001b[0m \u001b[0msend_empty_packet\u001b[0m\u001b[0;34m=\u001b[0m\u001b[0;32mFalse\u001b[0m\u001b[0;34m)\u001b[0m\u001b[0;34m:\u001b[0m\u001b[0;34m\u001b[0m\u001b[0m\n",
      "\u001b[0;32m~/anaconda3/lib/python3.6/site-packages/mysql/connector/network.py\u001b[0m in \u001b[0;36mrecv_plain\u001b[0;34m(self)\u001b[0m\n\u001b[1;32m    224\u001b[0m             \u001b[0mpacket_len\u001b[0m \u001b[0;34m=\u001b[0m \u001b[0;36m0\u001b[0m\u001b[0;34m\u001b[0m\u001b[0m\n\u001b[1;32m    225\u001b[0m             \u001b[0;32mwhile\u001b[0m \u001b[0mpacket_len\u001b[0m \u001b[0;34m<\u001b[0m \u001b[0;36m4\u001b[0m\u001b[0;34m:\u001b[0m\u001b[0;34m\u001b[0m\u001b[0m\n\u001b[0;32m--> 226\u001b[0;31m                 \u001b[0mchunk\u001b[0m \u001b[0;34m=\u001b[0m \u001b[0mself\u001b[0m\u001b[0;34m.\u001b[0m\u001b[0msock\u001b[0m\u001b[0;34m.\u001b[0m\u001b[0mrecv\u001b[0m\u001b[0;34m(\u001b[0m\u001b[0;36m4\u001b[0m \u001b[0;34m-\u001b[0m \u001b[0mpacket_len\u001b[0m\u001b[0;34m)\u001b[0m\u001b[0;34m\u001b[0m\u001b[0m\n\u001b[0m\u001b[1;32m    227\u001b[0m                 \u001b[0;32mif\u001b[0m \u001b[0;32mnot\u001b[0m \u001b[0mchunk\u001b[0m\u001b[0;34m:\u001b[0m\u001b[0;34m\u001b[0m\u001b[0m\n\u001b[1;32m    228\u001b[0m                     \u001b[0;32mraise\u001b[0m \u001b[0merrors\u001b[0m\u001b[0;34m.\u001b[0m\u001b[0mInterfaceError\u001b[0m\u001b[0;34m(\u001b[0m\u001b[0merrno\u001b[0m\u001b[0;34m=\u001b[0m\u001b[0;36m2013\u001b[0m\u001b[0;34m)\u001b[0m\u001b[0;34m\u001b[0m\u001b[0m\n",
      "\u001b[0;31mKeyboardInterrupt\u001b[0m: "
     ]
    }
   ],
   "source": [
    "solorindex=[]\n",
    "x=[34,35,36,37,38,39,40,41,42,43,44,45]\n",
    "cnx = mysql.connector.connect(user='root', password= 'root', host = 'localhost',database = 'twitterSchema')\n",
    "q=\"select distinct user_id, ht,created_at,user_name,tweet_text from (select GROUP_CONCAT(CONCAT(hashtag)) as ht from twitter_data where tweet_id=?)a join twitter_data where tweet_id=?\"\n",
    "r=\"insert into solorindex1(tweet_id,userid,ht,created_at,user_name,tweet_text) values(?,?,?,?,?,?)\"\n",
    "try:\n",
    "    cursor = cnx.cursor(prepared=True)\n",
    "    for j in x:\n",
    "        for i in twli_chunks[j]:\n",
    "            cursor.execute(q,twli[i]) \n",
    "            a=cursor.fetchall()\n",
    "            a1=a[0]\n",
    "            if len(a1)>0:\n",
    "                cursor.execute(r,(tw_single[i],a1[0],a1[1].decode('utf-8'),a1[2].decode('utf-8'),a1[3].decode('utf-8'),a1[4].decode('utf-8'))) \n",
    "            else:\n",
    "                continue\n",
    "        cnx.commit()\n",
    "        print(\"it was success:%d\"%j)\n",
    "        \n",
    "        \n",
    "    \n",
    "    cursor.close()\n",
    "    cnx.close()\n",
    "except Error as err:\n",
    "    print(\"Something went wrong: {}\".format(err))\n",
    "    print(twli[i])\n",
    "    print(a)\n",
    "    raise mysql.connector.Error(err)\n",
    "print(\"it wass succes::::\")\n"
   ]
  }
 ],
 "metadata": {
  "kernelspec": {
   "display_name": "Python 3",
   "language": "python",
   "name": "python3"
  },
  "language_info": {
   "codemirror_mode": {
    "name": "ipython",
    "version": 3
   },
   "file_extension": ".py",
   "mimetype": "text/x-python",
   "name": "python",
   "nbconvert_exporter": "python",
   "pygments_lexer": "ipython3",
   "version": "3.6.2"
  }
 },
 "nbformat": 4,
 "nbformat_minor": 2
}
