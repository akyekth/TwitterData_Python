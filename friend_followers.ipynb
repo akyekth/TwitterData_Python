{
 "cells": [
  {
   "cell_type": "code",
   "execution_count": 1,
   "metadata": {
    "collapsed": true
   },
   "outputs": [],
   "source": [
    "from collections import defaultdict\n",
    "from mysql.connector.errors import Error\n",
    "\n",
    "import datetime\n",
    "import sys\n",
    "import json\n",
    "import mysql.connector\n",
    "import os\n",
    "import glob\n",
    "import re"
   ]
  },
  {
   "cell_type": "code",
   "execution_count": 2,
   "metadata": {},
   "outputs": [
    {
     "name": "stdout",
     "output_type": "stream",
     "text": [
      "social_graph\n",
      "directory files are adding to filelist: /media/data/sensemaking/dataset/social_graph/*.dat:\n",
      "no.of file in directory: 2\n",
      "/media/data/sensemaking/dataset/social_graph/SE_collected_graph.dat\n",
      "/media/data/sensemaking/dataset/social_graph/SE_collected_graph_p1.dat\n"
     ]
    }
   ],
   "source": [
    "\n",
    "fileslist=[]\n",
    "dirlist= ['/media/data/sensemaking/dataset/social_graph/*.dat']\n",
    "for dirl in dirlist:\n",
    "    fileslist.extend(glob.glob(dirl,recursive=True))\n",
    "    print(re.search('dataset/(.+?)/',dirl).group(1))\n",
    "    print('directory files are adding to filelist: %s:'%dirl)\n",
    "print('no.of file in directory: %d'%len(fileslist))\n",
    "for file in fileslist:\n",
    "    print(file)"
   ]
  },
  {
   "cell_type": "code",
   "execution_count": 7,
   "metadata": {},
   "outputs": [
    {
     "name": "stdout",
     "output_type": "stream",
     "text": [
      "16001262\n",
      "8660970\n",
      "8660970\n",
      "8660970\n",
      "11113\n",
      "11113\n",
      "11113\n",
      "11113\n",
      "friendsinsintosql method is started\n",
      "8660970\n",
      "(127042116, 336676648)\n",
      "(1466320177, 241520774)\n",
      "(1056130562, 2944535618)\n",
      "(751580254330875904, 4762513523)\n",
      "(2354268503, 619326360)\n",
      "frinds data insertion operation : success\n"
     ]
    },
    {
     "data": {
      "text/plain": [
       "\"\\ns2= followersinsintosql(followers_list_nodup)\\nprint('followers insertion operation : %s'%s2)\\n\""
      ]
     },
     "execution_count": 7,
     "metadata": {},
     "output_type": "execute_result"
    }
   ],
   "source": [
    "d=defaultdict(list)\n",
    "d1=defaultdict(list)\n",
    "friend=[]\n",
    "follow=[]\n",
    "followers=[]\n",
    "for file in fileslist:\n",
    "    #print(file)\n",
    "    with open(file) as f:\n",
    "        content = f.readlines()\n",
    "         # you may also want to remove whitespace characters like `\\n` at the end of each line\n",
    "    #content = [x.strip() for x in content]\n",
    "    #print(len(content))\n",
    "       \n",
    "    for x in content:\n",
    "        tokens = re.findall('\\s+', x)\n",
    "        k= len(tokens);\n",
    "        if k==2:\n",
    "        #print(name[i])\n",
    "            str1= (x).split()\n",
    "        \n",
    "            if len(str1) == 3:\n",
    "                friend.append((str1[0],str1[1]))\n",
    "                follow.append((str1[0],str1[2]))\n",
    "            elif len(str1) == 2:\n",
    "                friend.append((str1[0],str1[1]))\n",
    "                follow.append((str1[0],\"\"))\n",
    "        elif k==1:\n",
    "            #print(name[i])\n",
    "            str2= (x).split()\n",
    "            if len(str2) == 2:\n",
    "                friend.append((str2[0],\"\"))\n",
    "                follow.append((str2[0],str2[1]))\n",
    "            elif len(str2) == 1:\n",
    "                friend.append((str2[0],\"\"))\n",
    "                follow.append((str2[0],\"\"))\n",
    "                \n",
    "#fnds::::::::::::::\n",
    "\n",
    "for (k,v) in friend:\n",
    "    d[k].append(v)\n",
    "    \n",
    "friends=[]   \n",
    "friendlist=list(d.items())\n",
    "friends_list=[]\n",
    "friends_list_nodup=[]\n",
    "for (k,v) in friendlist:\n",
    "    # to eliminate space or emoty string in list [x for x in v if x] returnded\n",
    "    #list join with the #\n",
    "    id_list='#'.join( [x for x in v if x])\n",
    "    for i in id_list.split(\"#\"):\n",
    "        friends.append((k,i))\n",
    "\n",
    "firnd_set=set(friends)\n",
    "print(len(friends))\n",
    "\n",
    "print(len(firnd_set))\n",
    "\n",
    "for i in firnd_set:\n",
    "    friends_list.append(i)\n",
    "print(len(friends_list))\n",
    "for i in friends_list:\n",
    "    j1= int(i[0])\n",
    "    j2=int(int(0 if i[1] is '' else i[1]))\n",
    "    friends_list_nodup.append((j1,j2))\n",
    "print(len(friends_list_nodup))\n",
    "\n",
    "\n",
    "# followers:::::::::  \n",
    "\n",
    "for (k,v) in follow:\n",
    "    d1[k].append(v)\n",
    "followers=[]   \n",
    "followerslist=list(d1.items())\n",
    "followers_list=[]\n",
    "followers_list_nodup=[]\n",
    "for (k,v) in followerslist:\n",
    "    id1_list='#'.join( [x for x in v if x])\n",
    "    for i in id1_list.split(\"#\"):\n",
    "        followers.append((k,i))\n",
    "\n",
    "followers_set=set(followers)\n",
    "print(len(followers))\n",
    "\n",
    "print(len(followers_set))\n",
    "for i in followers_set:   \n",
    "    followers_list.append(i)\n",
    "for i in followers_list:\n",
    "    j1= int(i[0])\n",
    "    j2=int(int(0 if i[1] is '' else i[1]))\n",
    "    followers_list_nodup.append((j1,j2))\n",
    "\n",
    "print(len(followers_list))    \n",
    "print(len(followers_list_nodup))\n",
    "\n",
    "s1= friendsinsintosql(friends_list_nodup)        \n",
    "print('frinds data insertion operation : %s'%s1)  \n",
    "\"\"\"\n",
    "s2= followersinsintosql(followers_list_nodup)\n",
    "print('followers insertion operation : %s'%s2)\n",
    "\"\"\""
   ]
  },
  {
   "cell_type": "code",
   "execution_count": 6,
   "metadata": {
    "collapsed": true
   },
   "outputs": [],
   "source": [
    "def friendsinsintosql(friends_list_nodup):\n",
    "    \n",
    "    print(\"friendsinsintosql method is started\")\n",
    "    print(len(friends_list_nodup))\n",
    "    for i in range(0,5):\n",
    "        print(friends_list_nodup[i])\n",
    "        \n",
    "        \n",
    "    cnx = mysql.connector.connect(user='root', password= 'root', host = 'localhost',database = 'twitterSchema')\n",
    "    \n",
    "    add_followee= \"INSERT INTO followee(id_str, followee_id) VALUES (?, ?)\" \n",
    "    \n",
    "    try:\n",
    "        cursor = cnx.cursor(prepared=True)                        \n",
    "        cursor.executemany(add_followee,friends_list_nodup)\n",
    "        cnx.commit()\n",
    "        cursor.close()\n",
    "        cnx.close()\n",
    "    except Error as err:\n",
    "        print(\"Something went wrong: {}\".format(err))\n",
    "        raise mysql.connector.Error(err)\n",
    "        \n",
    "    return 'success';"
   ]
  },
  {
   "cell_type": "code",
   "execution_count": 3,
   "metadata": {
    "collapsed": true
   },
   "outputs": [],
   "source": [
    "def followersinsintosql(followers_list_nodup):\n",
    "    \n",
    "    print(\"followersinsintosql method is started\")\n",
    "    print(len(followers_list_nodup))\n",
    "       \n",
    "        \n",
    "    cnx = mysql.connector.connect(user='root', password= 'root', host = 'localhost',database = 'twitterSchema')\n",
    "    \n",
    "    add_followers= \"INSERT INTO followers(id_str, followersid) VALUES (?, ?)\" \n",
    "    \n",
    "    try:\n",
    "        cursor = cnx.cursor(prepared=True)                        \n",
    "        cursor.executemany(add_followers,followers_list_nodup)\n",
    "        cnx.commit()\n",
    "        cursor.close()\n",
    "        cnx.close()\n",
    "    except Error as err:\n",
    "        print(\"Something went wrong: {}\".format(err))\n",
    "        raise mysql.connector.Error(err)\n",
    "        \n",
    "    return 'success';"
   ]
  }
 ],
 "metadata": {
  "kernelspec": {
   "display_name": "Python 3",
   "language": "python",
   "name": "python3"
  },
  "language_info": {
   "codemirror_mode": {
    "name": "ipython",
    "version": 3
   },
   "file_extension": ".py",
   "mimetype": "text/x-python",
   "name": "python",
   "nbconvert_exporter": "python",
   "pygments_lexer": "ipython3",
   "version": "3.6.2"
  }
 },
 "nbformat": 4,
 "nbformat_minor": 2
}
