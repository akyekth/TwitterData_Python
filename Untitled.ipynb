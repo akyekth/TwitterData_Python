{
 "cells": [
  {
   "cell_type": "code",
   "execution_count": 2,
   "metadata": {
    "collapsed": true
   },
   "outputs": [],
   "source": [
    "from collections import defaultdict\n",
    "from mysql.connector.errors import Error\n",
    "from itertools import islice\n",
    "\n",
    "import datetime\n",
    "import sys\n",
    "import json\n",
    "import mysql.connector\n",
    "import os\n",
    "import glob\n",
    "import re\n"
   ]
  },
  {
   "cell_type": "code",
   "execution_count": 4,
   "metadata": {},
   "outputs": [
    {
     "name": "stdout",
     "output_type": "stream",
     "text": [
      "centralpartiet\n",
      "directory files are adding to filelist: /media/data/sensemaking/dataset/centralpartiet/clean/*.dat:\n",
      "FeministisktInitiativ\n",
      "directory files are adding to filelist: /media/data/sensemaking/dataset/FeministisktInitiativ/clean/*.dat:\n",
      "Kristdemokraterna\n",
      "directory files are adding to filelist: /media/data/sensemaking/dataset/Kristdemokraterna/clean/*.dat:\n",
      "Liberalerna\n",
      "directory files are adding to filelist: /media/data/sensemaking/dataset/Liberalerna/clean/*.dat:\n",
      "Vansterpartiet\n",
      "directory files are adding to filelist: /media/data/sensemaking/dataset/Vansterpartiet/clean/*.dat:\n",
      "Sveriagedemokraterna\n",
      "directory files are adding to filelist: /media/data/sensemaking/dataset/Sveriagedemokraterna/clean/*.dat:\n",
      "Socialdemokraterna\n",
      "directory files are adding to filelist: /media/data/sensemaking/dataset/Socialdemokraterna/clean/*.dat:\n",
      "Piratpartiet\n",
      "directory files are adding to filelist: /media/data/sensemaking/dataset/Piratpartiet/clean/*.dat:\n",
      "Miljopartiet\n",
      "directory files are adding to filelist: /media/data/sensemaking/dataset/Miljopartiet/clean/*.dat:\n",
      "no.of file in directory: 164\n"
     ]
    }
   ],
   "source": [
    "fileslist=[]\n",
    "\n",
    "dirlist= ['/media/data/sensemaking/dataset/centralpartiet/clean/*.dat',\n",
    "          '/media/data/sensemaking/dataset/FeministisktInitiativ/clean/*.dat',\n",
    "          '/media/data/sensemaking/dataset/Kristdemokraterna/clean/*.dat',\n",
    "          '/media/data/sensemaking/dataset/Liberalerna/clean/*.dat',\n",
    "          '/media/data/sensemaking/dataset/Vansterpartiet/clean/*.dat',\n",
    "          '/media/data/sensemaking/dataset/Sveriagedemokraterna/clean/*.dat',\n",
    "          '/media/data/sensemaking/dataset/Socialdemokraterna/clean/*.dat',\n",
    "          '/media/data/sensemaking/dataset/Piratpartiet/clean/*.dat',\n",
    "          '/media/data/sensemaking/dataset/Miljopartiet/clean/*.dat'\n",
    "          \n",
    "         ]\n",
    "\n",
    "for dirl in dirlist:\n",
    "    fileslist.extend(glob.glob(dirl,recursive=True))\n",
    "    print(re.search('dataset/(.+?)/',dirl).group(1))\n",
    "    print('directory files are adding to filelist: %s:'%dirl)\n",
    "print('no.of file in directory: %d'%len(fileslist))"
   ]
  },
  {
   "cell_type": "code",
   "execution_count": 23,
   "metadata": {},
   "outputs": [
    {
     "name": "stdout",
     "output_type": "stream",
     "text": [
      "1392113\n"
     ]
    }
   ],
   "source": [
    "followercount_list=[]\n",
    "for file in fileslist:\n",
    "    \n",
    "    #print(file)\n",
    "    with open(file) as f:\n",
    "        content = f.readlines()\n",
    "    content = [x.strip() for x in content]\n",
    "    #print(len(content))\n",
    "    for x in content:\n",
    "           \n",
    "        try:\n",
    "            if x.strip().endswith('}'):\n",
    "                jsondata = json.loads(x,encoding='latin1')\n",
    "            else:\n",
    "                \n",
    "                continue\n",
    "                #   jsondata = json.loads(x,encoding='latin1')\n",
    "                    \n",
    "        except ValueError as ex:\n",
    "            #print(f)\n",
    "            continue\n",
    "            #raise ValueError(ex)\n",
    "        #print(jsondata['id'])\n",
    "        user_id= jsondata['user']['id']\n",
    "        #print(user_id)\n",
    "        screen_name=jsondata['user']['screen_name']\n",
    "        #print(screen_name)\n",
    "        followers_count=jsondata['user']['followers_count']\n",
    "        #print(followers_count)\n",
    "        followercount_list.append([user_id,screen_name,followers_count])\n",
    "        \n",
    "        if 'retweeted_status' in jsondata :\n",
    "            userid1=jsondata['retweeted_status']['user']['id']\n",
    "            #print(userid1)\n",
    "            screen_name1=jsondata['retweeted_status']['user']['screen_name']\n",
    "            #print(screen_name1)\n",
    "            followers_count1=jsondata['retweeted_status']['user']['followers_count']\n",
    "            #print(followers_count1)\n",
    "            followercount_list.append([userid1,screen_name1,followers_count1])\n",
    "        else:\n",
    "            continue\n",
    "        \n",
    "            \n",
    "print(len(followercount_list))  \n",
    "            \n",
    "        \n",
    "            "
   ]
  },
  {
   "cell_type": "code",
   "execution_count": 24,
   "metadata": {},
   "outputs": [
    {
     "name": "stdout",
     "output_type": "stream",
     "text": [
      "185570\n"
     ]
    }
   ],
   "source": [
    " followercount_list_nodup=[list(item) for item in set(tuple(row) for row in followercount_list)]\n",
    "    \n",
    "print(len(followercount_list_nodup))\n"
   ]
  },
  {
   "cell_type": "code",
   "execution_count": 25,
   "metadata": {},
   "outputs": [
    {
     "name": "stdout",
     "output_type": "stream",
     "text": [
      "[48972444, 'arbpersson', 8]\n"
     ]
    }
   ],
   "source": [
    "print(followercount_list_nodup[0])"
   ]
  },
  {
   "cell_type": "code",
   "execution_count": 26,
   "metadata": {},
   "outputs": [
    {
     "name": "stdout",
     "output_type": "stream",
     "text": [
      "it wass succes::::\n"
     ]
    }
   ],
   "source": [
    "cnx = mysql.connector.connect(user='root', password= 'root', host = 'localhost',database = 'twitterSchema')\n",
    "q= \"insert into followers_count_jsondata(user_id,screen_name,followers_count) values(?,?,?)\"\n",
    "try:\n",
    "    cursor = cnx.cursor(prepared=True)    \n",
    "    cursor.executemany(q,followercount_list_nodup)  \n",
    "    cnx.commit()\n",
    "    cursor.close()\n",
    "    cnx.close()\n",
    "except Error as err:\n",
    "    print(\"Something went wrong: {}\".format(err))\n",
    "    raise mysql.connector.Error(err)\n",
    "print(\"it wass succes::::\")"
   ]
  }
 ],
 "metadata": {
  "kernelspec": {
   "display_name": "Python 3",
   "language": "python",
   "name": "python3"
  },
  "language_info": {
   "codemirror_mode": {
    "name": "ipython",
    "version": 3
   },
   "file_extension": ".py",
   "mimetype": "text/x-python",
   "name": "python",
   "nbconvert_exporter": "python",
   "pygments_lexer": "ipython3",
   "version": "3.6.2"
  }
 },
 "nbformat": 4,
 "nbformat_minor": 2
}
