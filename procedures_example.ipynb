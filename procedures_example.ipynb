{
 "cells": [
  {
   "cell_type": "code",
   "execution_count": 2,
   "metadata": {
    "collapsed": true
   },
   "outputs": [],
   "source": [
    "from collections import defaultdict\n",
    "from mysql.connector.errors import Error\n",
    "from itertools import islice\n",
    "\n",
    "import datetime\n",
    "import sys\n",
    "import json\n",
    "import mysql.connector\n",
    "import os\n",
    "import glob\n",
    "import re"
   ]
  },
  {
   "cell_type": "code",
   "execution_count": 27,
   "metadata": {},
   "outputs": [
    {
     "name": "stdout",
     "output_type": "stream",
     "text": [
      "[(1451, datetime.datetime(2016, 1, 4, 0, 46, 49)), (1970, datetime.datetime(2016, 1, 11, 0, 30, 13)), (1671, datetime.datetime(2016, 1, 18, 1, 25, 18)), (2213, datetime.datetime(2016, 1, 25, 0, 52, 45)), (2092, datetime.datetime(2016, 2, 1, 0, 11, 20)), (1237, datetime.datetime(2016, 2, 8, 0, 15, 58)), (1285, datetime.datetime(2016, 2, 15, 0, 28, 3)), (1380, datetime.datetime(2016, 2, 22, 0, 5, 40)), (942, datetime.datetime(2016, 2, 29, 0, 8, 48)), (1425, datetime.datetime(2016, 3, 7, 0, 5, 24)), (1441, datetime.datetime(2016, 3, 14, 0, 40, 47)), (1051, datetime.datetime(2016, 3, 21, 0, 2, 48)), (974, datetime.datetime(2016, 3, 28, 2, 48, 50)), (1426, datetime.datetime(2016, 4, 4, 0, 13, 2)), (1155, datetime.datetime(2016, 4, 11, 1, 51, 45)), (983, datetime.datetime(2016, 4, 18, 0, 12, 46)), (1317, datetime.datetime(2016, 4, 25, 2, 5, 5)), (1522, datetime.datetime(2016, 5, 2, 1, 4, 44)), (1530, datetime.datetime(2016, 5, 9, 0, 51, 6)), (1844, datetime.datetime(2016, 5, 16, 0, 41, 44)), (1630, datetime.datetime(2016, 5, 23, 0, 3, 18)), (1410, datetime.datetime(2016, 5, 30, 1, 4, 31)), (1020, datetime.datetime(2016, 6, 6, 0, 8, 24)), (1052, datetime.datetime(2016, 6, 13, 0, 53, 40)), (1257, datetime.datetime(2016, 6, 20, 3, 10, 53)), (1209, datetime.datetime(2016, 6, 27, 2, 20, 3)), (2470, datetime.datetime(2016, 7, 4, 0, 34, 22)), (1162, datetime.datetime(2016, 7, 11, 0, 17, 29)), (968, datetime.datetime(2016, 7, 18, 1, 15, 29)), (987, datetime.datetime(2016, 7, 25, 2, 42)), (944, datetime.datetime(2016, 8, 1, 0, 9, 33)), (709, datetime.datetime(2016, 8, 8, 1, 19, 16)), (1354, datetime.datetime(2016, 8, 15, 3, 26, 30)), (1170, datetime.datetime(2016, 8, 22, 1, 58, 47)), (1072, datetime.datetime(2016, 8, 29, 0, 5, 36)), (1816, datetime.datetime(2016, 9, 5, 0, 16, 37)), (2164, datetime.datetime(2016, 9, 12, 0, 18, 52)), (1888, datetime.datetime(2016, 9, 19, 0, 36, 43)), (1272, datetime.datetime(2016, 9, 26, 3, 35, 37)), (2310, datetime.datetime(2016, 10, 3, 0, 26, 1)), (1770, datetime.datetime(2016, 10, 10, 0, 44, 12)), (1283, datetime.datetime(2016, 10, 17, 3, 12, 43)), (1634, datetime.datetime(2016, 10, 24, 0, 1, 48)), (1649, datetime.datetime(2016, 10, 31, 0, 26)), (1657, datetime.datetime(2016, 11, 7, 0, 26, 30)), (1553, datetime.datetime(2016, 11, 14, 0, 2, 19)), (2195, datetime.datetime(2016, 11, 21, 0, 6, 5)), (2176, datetime.datetime(2016, 11, 28, 0, 18, 34)), (1389, datetime.datetime(2016, 12, 5, 0, 22, 27)), (1606, datetime.datetime(2016, 12, 12, 0, 14, 16)), (903, datetime.datetime(2016, 12, 19, 0, 30, 57)), (757, datetime.datetime(2016, 12, 26, 0, 1, 24)), (586, datetime.datetime(2015, 12, 31, 22, 12, 9))]\n",
      "success\n"
     ]
    }
   ],
   "source": [
    "cnx = mysql.connector.connect(user='root', password= 'root', host = 'localhost',database = 'twitterSchema')\n",
    "li=('amira')\n",
    "try:\n",
    "        cursor = cnx.cursor()                        \n",
    "        #cursor.executemany(add_user,user_list)\n",
    "        #cursor.execute(add_user,temp)\n",
    "        \n",
    "        cursor.execute(\"set @gbl='w'\")\n",
    "        cursor.execute(\"set @kw='svpol'\")\n",
    "        #cursor.execute(\"call Foo()\")\n",
    "        \n",
    "        \n",
    "        cursor.callproc('Foo')\n",
    "        for result in cursor.stored_results():\n",
    "            print(result.fetchall())\n",
    "        \n",
    "        cnx.commit()\n",
    "        cursor.close()\n",
    "        cnx.close()\n",
    "except Error as err:\n",
    "        print(\"Something went wrong: {}\".format(err))\n",
    "        raise mysql.connector.Error(err) \n",
    "print('success')"
   ]
  },
  {
   "cell_type": "code",
   "execution_count": null,
   "metadata": {
    "collapsed": true
   },
   "outputs": [],
   "source": []
  }
 ],
 "metadata": {
  "kernelspec": {
   "display_name": "Python 3",
   "language": "python",
   "name": "python3"
  },
  "language_info": {
   "codemirror_mode": {
    "name": "ipython",
    "version": 3
   },
   "file_extension": ".py",
   "mimetype": "text/x-python",
   "name": "python",
   "nbconvert_exporter": "python",
   "pygments_lexer": "ipython3",
   "version": "3.6.2"
  }
 },
 "nbformat": 4,
 "nbformat_minor": 2
}
