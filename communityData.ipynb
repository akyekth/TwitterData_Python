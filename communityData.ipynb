{
 "cells": [
  {
   "cell_type": "code",
   "execution_count": 1,
   "metadata": {
    "collapsed": true
   },
   "outputs": [],
   "source": [
    "from collections import defaultdict\n",
    "from mysql.connector.errors import Error\n",
    "\n",
    "import datetime\n",
    "import sys\n",
    "import json\n",
    "import mysql.connector\n",
    "import os\n",
    "import glob\n",
    "import re"
   ]
  },
  {
   "cell_type": "code",
   "execution_count": 2,
   "metadata": {},
   "outputs": [
    {
     "name": "stdout",
     "output_type": "stream",
     "text": [
      "social_graph\n",
      "directory files are adding to filelist: /media/data/sensemaking/dataset/social_graph/comm*.dat:\n",
      "no.of file in directory: 1\n",
      "/media/data/sensemaking/dataset/social_graph/communities.dat\n"
     ]
    }
   ],
   "source": [
    "fileslist=[]\n",
    "dirlist= ['/media/data/sensemaking/dataset/social_graph/comm*.dat']\n",
    "for dirl in dirlist:\n",
    "    fileslist.extend(glob.glob(dirl,recursive=True))\n",
    "    print(re.search('dataset/(.+?)/',dirl).group(1))\n",
    "    print('directory files are adding to filelist: %s:'%dirl)\n",
    "print('no.of file in directory: %d'%len(fileslist))\n",
    "for file in fileslist:\n",
    "    print(file)"
   ]
  },
  {
   "cell_type": "code",
   "execution_count": 2,
   "metadata": {
    "collapsed": true
   },
   "outputs": [],
   "source": [
    "def chunks(l, n):\n",
    "    \"\"\"Yield successive n-sized chunks from l.\"\"\"\n",
    "    for i in range(0, len(l), n):\n",
    "        yield l[i:i + n]"
   ]
  },
  {
   "cell_type": "code",
   "execution_count": null,
   "metadata": {
    "collapsed": true,
    "scrolled": true
   },
   "outputs": [],
   "source": [
    "for file in fileslist:\n",
    "    #print(file)\n",
    "    with open(file) as f:\n",
    "        content = f.readlines()\n",
    "    \n",
    "    commid=[]\n",
    "    community=[]\n",
    "    memcommunity=[]\n",
    "    for i in range(1,len(content)+1):\n",
    "        commid.append(i)\n",
    "    print(commid[0])\n",
    "    \n",
    "    list_percontent= content[0].split()\n",
    "    list_percontent1= content[1].split()\n",
    "    \n",
    "    #print(list_percontent)\n",
    "    print(len(commid))\n",
    "    print(len(content))\n",
    "    print(len(list_percontent))\n",
    "    print(len(list_percontent1))\n",
    "    x=[]\n",
    "    y=0\n",
    "    for i in range(len(commid)):\n",
    "        x= content[i].split()\n",
    "        community.append((commid[i],len(x)))\n",
    "        y+=len(x)\n",
    "        for j in range(len(x)):\n",
    "            memcommunity.append((x[j],commid[i]))\n",
    "            \n",
    "\n",
    "print(community[0])\n",
    "print(community[11443])\n",
    "print(y)\n",
    "print(len(memcommunity))\n",
    "print(len(list(set(memcommunity))))\n",
    "for i in range(5):\n",
    "     print(memcommunity[i])\n",
    "        \n",
    "    \"\"\"community table related\n",
    "    s1= insertcommunity(community)\n",
    "    print('community table insertion operation : %s'%s1)  \"\"\"\n",
    "    \"\"\"community_mmbership table related \"\"\"\n",
    "s1= insertmemcommunity(memcommunity)\n",
    "print('memcommunity table insertion operation : %s'%s1)\n",
    "    \n",
    "    \n",
    "        "
   ]
  },
  {
   "cell_type": "code",
   "execution_count": 27,
   "metadata": {
    "collapsed": true
   },
   "outputs": [],
   "source": [
    "def insertcommunity(community):\n",
    "   \n",
    "   \n",
    "    \n",
    "    cnx = mysql.connector.connect(user='root', password= 'root', host = 'localhost',database = 'twitterSchema')\n",
    "    \n",
    "    add_community= \"INSERT INTO community(community_id,size) VALUES (?, ?)\"\n",
    "    \n",
    "    #for x in user_list]\n",
    "    #print(len(user_list))\n",
    "    \n",
    "    #print(user_list)\n",
    "    try:\n",
    "        cursor = cnx.cursor(prepared=True)                        \n",
    "        cursor.executemany(add_community,community)\n",
    "        #cursor.execute(add_user,temp)\n",
    "        cnx.commit()\n",
    "        cursor.close()\n",
    "        cnx.close()\n",
    "    except Error as err:\n",
    "        print(\"Something went wrong: {}\".format(err))\n",
    "        raise mysql.connector.Error(err)\n",
    "    return 'success';\n"
   ]
  },
  {
   "cell_type": "code",
   "execution_count": 43,
   "metadata": {
    "collapsed": true
   },
   "outputs": [],
   "source": [
    "def insertmemcommunity(memcommunity):\n",
    "    \n",
    "    cnx = mysql.connector.connect(user='root', password= 'root', host = 'localhost',database = 'twitterSchema')\n",
    "    \n",
    "    add_memcommunity= \"INSERT INTO com_membership(id_str,community_id) VALUES (?, ?)\"\n",
    "    \n",
    "    #for x in user_list]\n",
    "    #print(len(user_list))\n",
    "    \n",
    "    #print(user_list)\n",
    "    try:\n",
    "        cursor = cnx.cursor(prepared=True)                        \n",
    "        #cursor.executemany(add_memcommunity,memcommunity)\n",
    "        for i in range(len(memcommunity)):\n",
    "            print(i)\n",
    "            cursor.execute(add_memcommunity,memcommunity[i])\n",
    "        cnx.commit()\n",
    "        cursor.close()\n",
    "        cnx.close()\n",
    "    except Error as err:\n",
    "        print(\"Something went wrong: {}\".format(err))\n",
    "        raise mysql.connector.Error(err)\n",
    "    return 'success';"
   ]
  }
 ],
 "metadata": {
  "kernelspec": {
   "display_name": "Python 3",
   "language": "python",
   "name": "python3"
  },
  "language_info": {
   "codemirror_mode": {
    "name": "ipython",
    "version": 3
   },
   "file_extension": ".py",
   "mimetype": "text/x-python",
   "name": "python",
   "nbconvert_exporter": "python",
   "pygments_lexer": "ipython3",
   "version": "3.6.2"
  }
 },
 "nbformat": 4,
 "nbformat_minor": 2
}
