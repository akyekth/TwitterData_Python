{
 "cells": [
  {
   "cell_type": "code",
   "execution_count": 1,
   "metadata": {
    "collapsed": true
   },
   "outputs": [],
   "source": [
    "import sys\n",
    "from itertools import islice\n",
    "import os\n",
    "import pprint"
   ]
  },
  {
   "cell_type": "code",
   "execution_count": 5,
   "metadata": {},
   "outputs": [
    {
     "ename": "TypeError",
     "evalue": "unhashable type: 'list'",
     "output_type": "error",
     "traceback": [
      "\u001b[0;31m---------------------------------------------------------------------------\u001b[0m",
      "\u001b[0;31mTypeError\u001b[0m                                 Traceback (most recent call last)",
      "\u001b[0;32m<ipython-input-5-c3f82726b88c>\u001b[0m in \u001b[0;36m<module>\u001b[0;34m()\u001b[0m\n\u001b[1;32m      1\u001b[0m \u001b[0mli5\u001b[0m\u001b[0;34m=\u001b[0m\u001b[0;34m[\u001b[0m\u001b[0;34m[\u001b[0m\u001b[0;36m1\u001b[0m\u001b[0;34m,\u001b[0m\u001b[0;36m2\u001b[0m\u001b[0;34m]\u001b[0m\u001b[0;34m,\u001b[0m\u001b[0;34m[\u001b[0m\u001b[0;36m1\u001b[0m\u001b[0;34m,\u001b[0m\u001b[0;36m3\u001b[0m\u001b[0;34m]\u001b[0m\u001b[0;34m,\u001b[0m\u001b[0;34m[\u001b[0m\u001b[0;36m1\u001b[0m\u001b[0;34m,\u001b[0m\u001b[0;36m2\u001b[0m\u001b[0;34m]\u001b[0m\u001b[0;34m]\u001b[0m\u001b[0;34m\u001b[0m\u001b[0m\n\u001b[0;32m----> 2\u001b[0;31m \u001b[0mprint\u001b[0m\u001b[0;34m(\u001b[0m\u001b[0mlist\u001b[0m\u001b[0;34m(\u001b[0m\u001b[0mset\u001b[0m\u001b[0;34m(\u001b[0m\u001b[0mli5\u001b[0m\u001b[0;34m)\u001b[0m\u001b[0;34m)\u001b[0m\u001b[0;34m)\u001b[0m\u001b[0;34m\u001b[0m\u001b[0m\n\u001b[0m",
      "\u001b[0;31mTypeError\u001b[0m: unhashable type: 'list'"
     ]
    }
   ],
   "source": [
    "li5=[[1,2],[1,3],[1,2]]\n",
    "print(list(set(li5)))"
   ]
  },
  {
   "cell_type": "code",
   "execution_count": 5,
   "metadata": {},
   "outputs": [
    {
     "name": "stdout",
     "output_type": "stream",
     "text": [
      "%#trump%\n",
      "[1, 2, 3, 4, 5, 6]\n",
      "[(2, 'c'), (1, 'a'), (2, 'b')]\n",
      "(2, 'c')\n",
      "(1, 'a')\n",
      "(2, 'b')\n",
      "[range(0, 4), range(4, 8), range(8, 12)]\n",
      "3\n",
      "6\n",
      "9\n",
      "7\n",
      "3\n",
      "4\n",
      "5\n",
      "2\n",
      "range(0, 5)\n",
      "range(5, 10)\n",
      "range(10, 15)\n",
      "range(15, 20)\n",
      "range(20, 25)\n",
      "range(25, 30)\n",
      "range(30, 35)\n",
      "range(35, 40)\n",
      "range(40, 45)\n",
      "range(45, 50)\n"
     ]
    }
   ],
   "source": [
    "i='trump'\n",
    "s= '%#'+i+'%'\n",
    "print(s)\n",
    "\n",
    "#for i in range(10095):\n",
    "    #print(i)\n",
    "\n",
    "li2=['a','b','c','d','e','f']\n",
    "#for i in range(len(li2)):\n",
    "   # print('li2[i]')\n",
    "    \n",
    "li=[1,2,3,4,5,6,4,3,2,1]\n",
    "d= list(set(li))\n",
    "print(d)\n",
    "li3=[(1, 'a'), (1, 'a'), (2, 'b'), (2, 'c')]\n",
    "li4= list(set(li3))\n",
    "print(li4)\n",
    "for i in range(len(li4)):\n",
    "    print(li4[i])\n",
    "    \n",
    "\n",
    "#q=\"insert into dummy(text,f_usage,l_usage) select concat(\"',@a,\"'')as text,min(created_at) as mindate, max(created_at) as maxdate from tweet join tweets_hashtag using(tweet_id) join hashtag on hashtag.hashtag_id=tweets_hashtag.hash_id where tweet.text like '%?%'\"\n",
    "#print(q)\n",
    "\"\"\"\n",
    "li1=(range(1,6))\n",
    "for i in li1:\n",
    "    print(i)\n",
    "\n",
    "t= tuple(li2)\n",
    "print(t)\n",
    "li=list(zip(li1,t))\n",
    "print(len(li))\n",
    "\n",
    "\"\"\"\n",
    "z=[3,6,9,7,3,4,5,2,7,8,9,10]\n",
    "y= list(chunks(range(0,len(z)), 4))\n",
    "print(y)\n",
    "for i in y[0]:\n",
    "    print(z[i])\n",
    "for i in y[1]:\n",
    "    print(z[i])\n",
    "x=list(chunks(range(0,50), 5))\n",
    "for i in x:\n",
    "    print(i)\n",
    "    #or y in i:\n",
    "       #print(y)\n",
    "    "
   ]
  },
  {
   "cell_type": "code",
   "execution_count": 4,
   "metadata": {
    "collapsed": true
   },
   "outputs": [],
   "source": [
    "def chunks(l, n):\n",
    "    \"\"\"Yield successive n-sized chunks from l.\"\"\"\n",
    "    for i in range(0, len(l), n):\n",
    "        yield l[i:i + n]"
   ]
  },
  {
   "cell_type": "code",
   "execution_count": 5,
   "metadata": {},
   "outputs": [
    {
     "name": "stdout",
     "output_type": "stream",
     "text": [
      "1\n",
      "0\n",
      "1\n",
      "2\n",
      "3\n",
      "4\n",
      "56\n"
     ]
    }
   ],
   "source": [
    "#print(y)\n",
    "x=[('a')]\n",
    "print(len(x))\n",
    "z=[1,2,3,4,56,]\n",
    "x=(1,,2,3)\n",
    "print(len(x))\n",
    "for i in z:\n",
    "    print(i)\n",
    "    if len(x)>0:\n",
    "        print(x)\n",
    "    else:\n",
    "        continue"
   ]
  },
  {
   "cell_type": "code",
   "execution_count": 7,
   "metadata": {},
   "outputs": [
    {
     "name": "stdout",
     "output_type": "stream",
     "text": [
      "0\n"
     ]
    }
   ],
   "source": [
    "x=()\n",
    "print(len(x))"
   ]
  },
  {
   "cell_type": "code",
   "execution_count": 7,
   "metadata": {},
   "outputs": [
    {
     "ename": "TypeError",
     "evalue": "list indices must be integers or slices, not tuple",
     "output_type": "error",
     "traceback": [
      "\u001b[0;31m---------------------------------------------------------------------------\u001b[0m",
      "\u001b[0;31mTypeError\u001b[0m                                 Traceback (most recent call last)",
      "\u001b[0;32m<ipython-input-7-664d97e8920e>\u001b[0m in \u001b[0;36m<module>\u001b[0;34m()\u001b[0m\n\u001b[0;32m----> 1\u001b[0;31m \u001b[0mx\u001b[0m\u001b[0;34m=\u001b[0m\u001b[0;34m[\u001b[0m\u001b[0;34m[\u001b[0m\u001b[0;36m1\u001b[0m\u001b[0;34m,\u001b[0m\u001b[0;36m2\u001b[0m\u001b[0;34m,\u001b[0m\u001b[0;36m3\u001b[0m\u001b[0;34m]\u001b[0m\u001b[0;34m[\u001b[0m\u001b[0;36m4\u001b[0m\u001b[0;34m,\u001b[0m\u001b[0;36m5\u001b[0m\u001b[0;34m,\u001b[0m\u001b[0;36m6\u001b[0m\u001b[0;34m]\u001b[0m\u001b[0;34m]\u001b[0m\u001b[0;34m\u001b[0m\u001b[0m\n\u001b[0m\u001b[1;32m      2\u001b[0m \u001b[0my\u001b[0m\u001b[0;34m=\u001b[0m\u001b[0;34m[\u001b[0m\u001b[0;34m[\u001b[0m\u001b[0;36m2\u001b[0m\u001b[0;34m,\u001b[0m\u001b[0;36m4\u001b[0m\u001b[0;34m,\u001b[0m\u001b[0;36m6\u001b[0m\u001b[0;34m]\u001b[0m\u001b[0;34m[\u001b[0m\u001b[0;36m5\u001b[0m\u001b[0;34m,\u001b[0m\u001b[0;36m4\u001b[0m\u001b[0;34m,\u001b[0m\u001b[0;36m6\u001b[0m\u001b[0;34m]\u001b[0m\u001b[0;34m]\u001b[0m\u001b[0;34m\u001b[0m\u001b[0m\n\u001b[1;32m      3\u001b[0m \u001b[0mz\u001b[0m\u001b[0;34m=\u001b[0m\u001b[0mx\u001b[0m\u001b[0;34m+\u001b[0m\u001b[0my\u001b[0m\u001b[0;34m\u001b[0m\u001b[0m\n\u001b[1;32m      4\u001b[0m \u001b[0mprint\u001b[0m\u001b[0;34m(\u001b[0m\u001b[0mz\u001b[0m\u001b[0;34m)\u001b[0m\u001b[0;34m\u001b[0m\u001b[0m\n",
      "\u001b[0;31mTypeError\u001b[0m: list indices must be integers or slices, not tuple"
     ]
    }
   ],
   "source": [
    "x=[[1,2,3][4,5,6]]\n",
    "y=[[2,4,6][5,4,6]]\n",
    "z=x+y\n",
    "print(z)\n"
   ]
  },
  {
   "cell_type": "code",
   "execution_count": 9,
   "metadata": {},
   "outputs": [
    {
     "name": "stdout",
     "output_type": "stream",
     "text": [
      "0\n",
      "1\n",
      "2\n",
      "3\n",
      "4\n",
      "0\n",
      "itwas:0 \n",
      "5\n",
      "6\n",
      "7\n",
      "8\n",
      "9\n",
      "1\n",
      "itwas:1 \n",
      "10\n",
      "11\n",
      "12\n",
      "13\n",
      "14\n",
      "2\n",
      "itwas:2 \n",
      "15\n",
      "16\n",
      "17\n",
      "18\n",
      "19\n",
      "3\n",
      "itwas:3 \n",
      "20\n",
      "21\n",
      "22\n",
      "23\n",
      "24\n",
      "4\n",
      "itwas:4 \n",
      "25\n",
      "26\n",
      "27\n",
      "28\n",
      "29\n",
      "5\n",
      "itwas:5 \n",
      "30\n",
      "31\n",
      "32\n",
      "33\n",
      "34\n",
      "6\n",
      "itwas:6 \n",
      "35\n",
      "36\n",
      "37\n",
      "38\n",
      "39\n",
      "7\n",
      "itwas:7 \n",
      "40\n",
      "41\n",
      "42\n",
      "43\n",
      "44\n",
      "8\n",
      "itwas:8 \n",
      "45\n",
      "46\n",
      "47\n",
      "48\n",
      "49\n",
      "9\n",
      "itwas:9 \n"
     ]
    }
   ],
   "source": [
    "#x=[7,8,9,10,11,12,13,14,15,16,17,18,19,20,21,22,23,24,25]\n",
    "x2=[0,1,2,3,4,5,6,7,8,9]\n",
    "\n",
    "for i in x2:\n",
    "    for j in x[i]:\n",
    "        print(j)\n",
    "    print(i)\n",
    "    print(\"itwas:%d \"%i)\n",
    "    "
   ]
  }
 ],
 "metadata": {
  "kernelspec": {
   "display_name": "Python 3",
   "language": "python",
   "name": "python3"
  },
  "language_info": {
   "codemirror_mode": {
    "name": "ipython",
    "version": 3
   },
   "file_extension": ".py",
   "mimetype": "text/x-python",
   "name": "python",
   "nbconvert_exporter": "python",
   "pygments_lexer": "ipython3",
   "version": "3.6.2"
  }
 },
 "nbformat": 4,
 "nbformat_minor": 2
}
