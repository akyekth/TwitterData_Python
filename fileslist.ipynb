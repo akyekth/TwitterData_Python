{
 "cells": [
  {
   "cell_type": "code",
   "execution_count": null,
   "metadata": {
    "scrolled": true
   },
   "outputs": [],
   "source": [
    "from collections import defaultdict\n",
    "\n",
    "import datetime\n",
    "import sys\n",
    "import json\n",
    "import mysql.connector\n",
    "import os\n",
    "import pandas as pd\n",
    "\n",
    "d=defaultdict(list)\n",
    "user=[]\n",
    "user_list=[]\n",
    "dirlist=[]\n",
    "\n",
    "path= '/media/data/sensemaking/dataset'\n",
    "for file in os.listdir(path):\n",
    "    path=path+'/'+file\n",
    "    dirlist.append(path)\n",
    "print(dirlist)\n",
    "for dire in dirlist:\n",
    "    if(os.path.exists(dire+'/tmp')):\n",
    "    for fi in os.listdir(dire):\n",
    "        filename= dire+'/'+file \n",
    "        print(filename)\n",
    "    \n",
    "print()\n"
   ]
  },
  {
   "cell_type": "code",
   "execution_count": null,
   "metadata": {
    "scrolled": true
   },
   "outputs": [],
   "source": [
    "from collections import defaultdict\n",
    "\n",
    "import datetime\n",
    "import sys\n",
    "import json\n",
    "import mysql.connector\n",
    "import os\n",
    "import pandas as pd\n",
    "import glob\n",
    "\n",
    "d=defaultdict(list)\n",
    "user=[]\n",
    "user_list=[]\n",
    "fileslist=[]\n",
    "dirlist= ['/media/data/sensemaking/dataset/centralpartiet/clean/*.dat',\n",
    "          '/media/data/sensemaking/dataset/FeministisktInitiativ/clean/*.dat',\n",
    "          '/media/data/sensemaking/dataset/Kristdemokraterna/clean/*.dat',\n",
    "          '/media/data/sensemaking/dataset/Liberalerna/clean/*.dat',\n",
    "          '/media/data/sensemaking/dataset/Vansterpartiet/*.dat',\n",
    "          '/media/data/sensemaking/dataset/Sveriagedemokraterna/*.dat',\n",
    "          '/media/data/sensemaking/dataset/Socialdemokraterna/*.dat',\n",
    "          '/media/data/sensemaking/dataset/Piratpartiet/*.dat',\n",
    "         ]\n",
    "\n",
    "for dirl in dirlist:\n",
    "    print(dirl)\n",
    "    print(print(len(glob.glob(dirl,recursive=True))))\n",
    "    fileslist.extend(glob.glob(dirl,recursive=True))\n",
    "    print('after :  %d '%len(fileslist))\n",
    "    \n",
    "\n"
   ]
  },
  {
   "cell_type": "code",
   "execution_count": null,
   "metadata": {},
   "outputs": [],
   "source": [
    "print(len(glob.glob('/media/data/sensemaking/dataset/centralpartiet/clean/*.dat',recursive=True)))"
   ]
  },
  {
   "cell_type": "code",
   "execution_count": null,
   "metadata": {
    "collapsed": true
   },
   "outputs": [],
   "source": []
  }
 ],
 "metadata": {
  "kernelspec": {
   "display_name": "Python 3",
   "language": "python",
   "name": "python3"
  },
  "language_info": {
   "codemirror_mode": {
    "name": "ipython",
    "version": 3
   },
   "file_extension": ".py",
   "mimetype": "text/x-python",
   "name": "python",
   "nbconvert_exporter": "python",
   "pygments_lexer": "ipython3",
   "version": "3.6.2"
  }
 },
 "nbformat": 4,
 "nbformat_minor": 2
}
