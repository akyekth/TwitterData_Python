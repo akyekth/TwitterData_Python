{
 "cells": [
  {
   "cell_type": "code",
   "execution_count": 1,
   "metadata": {
    "collapsed": true
   },
   "outputs": [],
   "source": [
    "from collections import defaultdict\n",
    "from mysql.connector.errors import Error\n",
    "from itertools import islice\n",
    "from collections import defaultdict\n",
    "from mysql.connector.errors import Error\n",
    "from itertools import islice\n",
    "\n",
    "import datetime\n",
    "import sys\n",
    "import json\n",
    "import mysql.connector\n",
    "import os\n",
    "import glob\n",
    "import re\n",
    "import time\n",
    "import codecs\n",
    "import base64;\n",
    "from pandas import DataFrame"
   ]
  },
  {
   "cell_type": "code",
   "execution_count": 2,
   "metadata": {
    "collapsed": true
   },
   "outputs": [],
   "source": [
    "df = DataFrame.from_csv(\"/media/data/sensemaking/dataset/cascades/re_tweet_data.tsv\", sep=\"\\t\")\n",
    "cascade_list=df.to_records().tolist() "
   ]
  },
  {
   "cell_type": "code",
   "execution_count": 3,
   "metadata": {},
   "outputs": [
    {
     "name": "stdout",
     "output_type": "stream",
     "text": [
      "497203\n"
     ]
    }
   ],
   "source": [
    "print(len(cascade_list))"
   ]
  },
  {
   "cell_type": "code",
   "execution_count": 6,
   "metadata": {},
   "outputs": [
    {
     "name": "stdout",
     "output_type": "stream",
     "text": [
      "it wass succes::::\n"
     ]
    }
   ],
   "source": [
    "#cumulative daily summary\n",
    "cnx = mysql.connector.connect(user='root', password= 'root', host = 'localhost',database = 'twitterSchema')\n",
    "q= \"insert into re_tweet_data(tweet_id ,copy_user,copy_date,copy_timestamp,original_user,original_date,original_timestamp,label,retweet_size,relative_time) values(?,?,?,?,?,?,?,?,?,?)\"\n",
    "try:\n",
    "    cursor = cnx.cursor(prepared=True)    \n",
    "    cursor.executemany(q,cascade_list)  \n",
    "    cnx.commit()\n",
    "    cursor.close()\n",
    "    cnx.close()\n",
    "except Error as err:\n",
    "    print(\"Something went wrong: {}\".format(err))\n",
    "    raise mysql.connector.Error(err)\n",
    "print(\"it wass succes::::\")"
   ]
  }
 ],
 "metadata": {
  "kernelspec": {
   "display_name": "Python 3",
   "language": "python",
   "name": "python3"
  },
  "language_info": {
   "codemirror_mode": {
    "name": "ipython",
    "version": 3
   },
   "file_extension": ".py",
   "mimetype": "text/x-python",
   "name": "python",
   "nbconvert_exporter": "python",
   "pygments_lexer": "ipython3",
   "version": "3.6.2"
  }
 },
 "nbformat": 4,
 "nbformat_minor": 2
}
