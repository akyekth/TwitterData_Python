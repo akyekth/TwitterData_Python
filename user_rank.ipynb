{
 "cells": [
  {
   "cell_type": "code",
   "execution_count": 34,
   "metadata": {
    "collapsed": true
   },
   "outputs": [],
   "source": [
    "from collections import defaultdict\n",
    "from mysql.connector.errors import Error\n",
    "from itertools import islice\n",
    "\n",
    "import datetime\n",
    "import sys\n",
    "import json\n",
    "import mysql.connector\n",
    "import os\n",
    "import glob\n",
    "import re\n",
    "import time\n",
    "import codecs\n",
    "import base64;\n",
    "# from pandas import DataFrame\n",
    "import pandas as pd\n",
    "import numpy as np\n",
    "cdate1=[]\n",
    "cascade_list=[]"
   ]
  },
  {
   "cell_type": "code",
   "execution_count": 44,
   "metadata": {
    "collapsed": true
   },
   "outputs": [],
   "source": [
    "df1 = pd.read_csv(\"/media/data/sensemaking/dataset/cascades/tweet_data.tsv\", delimiter=\"\\t\")\n",
    "df2 = pd.read_csv(\"/media/data/sensemaking/dataset/social_graph/pagerank.dat\", delimiter=\"=\", header=None)\n",
    "\n",
    "# result = result[['col1', 'cole2']]\n",
    "# df = Data.from_csv(\"/media/data/sensemaking/dataset/cascades/tweet_data.tsv\", sep=\"\\t\")\n",
    "#df1=df.loc[:,['user_id']]\n",
    "# df1=DataFrame(df[['user_id']],columns=['user_id'])\n",
    "# df.head()\n",
    "# uids = df['user_id'].values\n",
    "# df1.set_index(['user_id'])\n",
    "#print(df1[:5])\n",
    "# df1.drop_duplicates()"
   ]
  },
  {
   "cell_type": "code",
   "execution_count": 52,
   "metadata": {},
   "outputs": [
    {
     "data": {
      "text/html": [
       "<div>\n",
       "<style>\n",
       "    .dataframe thead tr:only-child th {\n",
       "        text-align: right;\n",
       "    }\n",
       "\n",
       "    .dataframe thead th {\n",
       "        text-align: left;\n",
       "    }\n",
       "\n",
       "    .dataframe tbody tr th {\n",
       "        vertical-align: top;\n",
       "    }\n",
       "</style>\n",
       "<table border=\"1\" class=\"dataframe\">\n",
       "  <thead>\n",
       "    <tr style=\"text-align: right;\">\n",
       "      <th></th>\n",
       "      <th>1</th>\n",
       "    </tr>\n",
       "    <tr>\n",
       "      <th>0</th>\n",
       "      <th></th>\n",
       "    </tr>\n",
       "  </thead>\n",
       "  <tbody>\n",
       "    <tr>\n",
       "      <th>1000076258</th>\n",
       "      <td>5.187130e-08</td>\n",
       "    </tr>\n",
       "    <tr>\n",
       "      <th>167173675</th>\n",
       "      <td>6.335747e-08</td>\n",
       "    </tr>\n",
       "    <tr>\n",
       "      <th>180555696</th>\n",
       "      <td>3.478004e-07</td>\n",
       "    </tr>\n",
       "    <tr>\n",
       "      <th>146887702</th>\n",
       "      <td>1.230713e-07</td>\n",
       "    </tr>\n",
       "    <tr>\n",
       "      <th>430463836</th>\n",
       "      <td>6.289391e-08</td>\n",
       "    </tr>\n",
       "  </tbody>\n",
       "</table>\n",
       "</div>"
      ],
      "text/plain": [
       "                       1\n",
       "0                       \n",
       "1000076258  5.187130e-08\n",
       "167173675   6.335747e-08\n",
       "180555696   3.478004e-07\n",
       "146887702   1.230713e-07\n",
       "430463836   6.289391e-08"
      ]
     },
     "execution_count": 52,
     "metadata": {},
     "output_type": "execute_result"
    }
   ],
   "source": [
    "df2.set_index(0, inplace=True)\n",
    "df2.head()"
   ]
  },
  {
   "cell_type": "code",
   "execution_count": 46,
   "metadata": {},
   "outputs": [],
   "source": [
    "uniq_ids = np.unique(df1['user_id'].values)"
   ]
  },
  {
   "cell_type": "code",
   "execution_count": 54,
   "metadata": {},
   "outputs": [
    {
     "data": {
      "text/plain": [
       "array([              9774,              12843,              15213, ...,\n",
       "       809117376197357576, 810088862600921088, 814919495814889472])"
      ]
     },
     "execution_count": 54,
     "metadata": {},
     "output_type": "execute_result"
    }
   ],
   "source": [
    "uniq_ids"
   ]
  },
  {
   "cell_type": "code",
   "execution_count": 55,
   "metadata": {},
   "outputs": [],
   "source": [
    "page_rank = df2.loc[uniq_ids]"
   ]
  },
  {
   "cell_type": "code",
   "execution_count": 56,
   "metadata": {},
   "outputs": [
    {
     "data": {
      "text/plain": [
       "(24104, 1)"
      ]
     },
     "execution_count": 56,
     "metadata": {},
     "output_type": "execute_result"
    }
   ],
   "source": [
    "page_rank.shape"
   ]
  },
  {
   "cell_type": "code",
   "execution_count": 58,
   "metadata": {
    "collapsed": true
   },
   "outputs": [],
   "source": [
    "page_rank.to_csv('/media/data/sensemaking/dataset//cascades/user_rank.csv', sep='\\t',header=None)"
   ]
  },
  {
   "cell_type": "code",
   "execution_count": null,
   "metadata": {
    "collapsed": true
   },
   "outputs": [],
   "source": [
    "/* over here to insert this csv file into user rank table by the help of load command"
   ]
  },
  {
   "cell_type": "code",
   "execution_count": 15,
   "metadata": {},
   "outputs": [
    {
     "name": "stdout",
     "output_type": "stream",
     "text": [
      "      user_id                  rank\n",
      "0  1000076258  5.18712959837912e-08\n",
      "1   167173675  6.33574655206441e-08\n",
      "2   180555696  3.47800402350792e-07\n",
      "3   146887702  1.23071256394309e-07\n",
      "4   430463836  6.28939145321985e-08\n"
     ]
    }
   ],
   "source": [
    "df3 = DataFrame(pagerank1, columns=['user_id', 'rank'])\n",
    "print(df3[:5])\n"
   ]
  },
  {
   "cell_type": "code",
   "execution_count": null,
   "metadata": {
    "collapsed": true
   },
   "outputs": [],
   "source": [
    "/* over here to insert user rank table u"
   ]
  },
  {
   "cell_type": "code",
   "execution_count": 47,
   "metadata": {},
   "outputs": [
    {
     "name": "stdout",
     "output_type": "stream",
     "text": [
      "[range(0, 1000000), range(1000000, 2000000), range(2000000, 3000000), range(3000000, 4000000), range(4000000, 5000000), range(5000000, 6000000), range(6000000, 7000000), range(7000000, 8000000), range(8000000, 9000000), range(9000000, 10000000), range(10000000, 11000000), range(11000000, 12000000), range(12000000, 13000000), range(13000000, 14000000), range(14000000, 15000000), range(15000000, 16000000), range(16000000, 17000000), range(17000000, 18000000), range(18000000, 19000000), range(19000000, 19193778)]\n",
      "memcommunity table insertion operation : success\n"
     ]
    }
   ],
   "source": [
    "s1= insertpagerank1(pagerank1)\n",
    "print('memcommunity table insertion operation : %s'%s1)"
   ]
  },
  {
   "cell_type": "code",
   "execution_count": 46,
   "metadata": {
    "collapsed": true
   },
   "outputs": [],
   "source": [
    "def insertpagerank1(pagerank1):\n",
    "    x=list(chunks(range(0,19193778), 1000000))\n",
    "    print(x)\n",
    "    cnx = mysql.connector.connect(user='root', password= 'root', host = 'localhost',database = 'twitterSchema')\n",
    "    add_community= \"INSERT INTO pagerank1(id_str,rank) VALUES (?, ?)\"\n",
    "    \n",
    "   \n",
    "    try:\n",
    "        cursor = cnx.cursor(prepared=True)                        \n",
    "        #cursor.executemany(add_community,pagerank1)\n",
    "        for i in x[19]:\n",
    "            cursor.execute(add_community,pagerank1[i])\n",
    "        cnx.commit()\n",
    "        cursor.close()\n",
    "        cnx.close()\n",
    "        \n",
    "    except Error as err:\n",
    "        print(\"Something went wrong: {}\".format(err))\n",
    "        raise mysql.connector.Error(err)\n",
    "    return 'success';\n"
   ]
  }
 ],
 "metadata": {
  "kernelspec": {
   "display_name": "Python 3",
   "language": "python",
   "name": "python3"
  },
  "language_info": {
   "codemirror_mode": {
    "name": "ipython",
    "version": 3
   },
   "file_extension": ".py",
   "mimetype": "text/x-python",
   "name": "python",
   "nbconvert_exporter": "python",
   "pygments_lexer": "ipython3",
   "version": "3.6.2"
  }
 },
 "nbformat": 4,
 "nbformat_minor": 2
}
